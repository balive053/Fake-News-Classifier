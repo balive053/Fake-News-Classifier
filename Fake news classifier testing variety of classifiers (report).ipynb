{
 "cells": [
  {
   "cell_type": "markdown",
   "id": "d89bdd22",
   "metadata": {},
   "source": [
    "# Fake News Classifier using a variety of classifiers"
   ]
  },
  {
   "cell_type": "markdown",
   "id": "e50d80b0-48b9-46cd-bd3f-d315fa74b217",
   "metadata": {},
   "source": [
    "## I. Introduction"
   ]
  },
  {
   "cell_type": "markdown",
   "id": "4ad850e3-3113-4bb5-9909-40662bfa2fac",
   "metadata": {},
   "source": [
    "### 1. Domain-specific area"
   ]
  },
  {
   "cell_type": "markdown",
   "id": "ae573548-26f0-41cc-885c-47d9cc5c011c",
   "metadata": {},
   "source": [
    "##### Domain area – Fake News Classification (Classifying fake from real news stories)\n",
    "\n",
    "<h><i>Identify and describe the challenge:</i><h/>\n",
    "\n",
    "The growing prevalence of fake news - “broadly defined as false or misleading information masquerading as legitimate news”<sup>[7]</sup> - in modern society is considered by many as a leading issue of many societal issues today including, but not limited to, political interference<sup>[2],[9]</sup>, health<sup>[1],[3]</sup>, and gun violence<sup>[4][14]</sup> to having adverse effects on stock prices<sup>[13]</sup>. The challenge with fake news is identifying whether it is a fake or genuine news story. News reports are designed as a source of public fact and, therefore, fake news stories presented as real news can influence people’s views and actions.\n",
    "Recent examples of this include health issues such as the correlation between fake news stories and low Covid-19 vaccination rates<sup>[1]</sup>, and HPV vaccination coverage<sup>[3]</sup>, to the more violent ‘Pizza Gate’ shooting as a result of fake news stories<sup>[4]</sup>. The rising challenge in this area in the increasing coverage of social media as a news source<sup>[5]</sup>. Despite efforts from instances such as Twitter introducing a news classification system<sup>[6]</sup>, the problem of fake news on social media has continued through a variety of sources such as shared stories, tweets, etc.<sup>[1]</sup>.\n",
    "\n",
    "<h><i>Area of industry or science where text classification methods can contribute:</i><h/>\n",
    "    \n",
    "While the spread of fake news is not as widespread as generally believed<sup>[7]</sup>, it is generally more pervasive in specific areas, predominantly in social media through tweets, shared news stories etc.<sup>[5]</sup> As such, fake news classifiers are particularly useful when incorporated into social media through fields such as tweet tagging, censoring etc. and posted news link classification tools such as Twitters internal classification system<sup>[6]</sup> or through external classifiers which can be trained to recognize false/misleading information. \n"
   ]
  },
  {
   "cell_type": "markdown",
   "id": "5d1137c4-fab0-4252-be59-43cb17825c5f",
   "metadata": {},
   "source": [
    "### 2. Objectives"
   ]
  },
  {
   "cell_type": "markdown",
   "id": "22133701-d346-437a-b7fb-148c9ed8a26d",
   "metadata": {},
   "source": [
    "<h><i>Objectives:</i></h> \n",
    "\n",
    "The <b>first objective</b> of this project is to build a classifier which can differentiate between and classify fake news from real news with a high level of accuracy on the test dataset used based on the heading and body of the text feed to it.\n",
    "\n",
    "As the ultimate goal of a classifier is to have use in real life, the <b>second objective</b> of this project is to test the classifier on data from a secondary dataset (not used in training or testing) to see if it can perform as accurately as it was able to on the test data. As datasets often have compilation bias, it is expected the classifier will perform worse of new data than on the test data but, if it is to be usable, it should still be able to classify with high accuracy on new data.\n",
    "\n",
    "As fake news has the potential to cause societal damage (or potentially physical damage) if people take the information presented in it as true, the <b>primary objective</b> is to be able to successfully identify and classify fake news (class 1) to a very high accuracy, while also not misidentifying true news (class 0) too often. The importance of accurately identifying fake over real news will resultantly be taken into account in the evaluation methodology.\n",
    "\n",
    "<h><i>Contribution the results could make:</i></h> \n",
    "\n",
    "Social media has frequently been identified as a primary source of fake news sharing.\n",
    "\n",
    "<blockquote>“Social media for news consumption is a double-edged sword. On the one hand, its low cost, easy access, and rapid dissemination of information lead people to seek out and consume news from social media. On the other hand, it enables the wide spread of \"fake news\", i.e., low quality news with intentionally false information. The extensive spread of fake news has the potential for extremely negative impacts on individuals and society.”<sup>[8]</sup></blockquote>\n",
    "\n",
    "The classifier will be made using an <b>model which can easily be deployed</b> through APIs and webapps such as <a href='https://streamlit.io/'>Streamlit</a> <b>to check the likely credibility of a news source</b>. It will be made publicly available for anyone who would like to use it to help identify fake news with the goal of allowing people to understand if what they are reading is likely real or fake to help reduce the impacts outlined above currently affecting society by the unknown consumption of fake news."
   ]
  },
  {
   "cell_type": "markdown",
   "id": "ea2846ab-4fb1-44e2-a055-8c3f13537a95",
   "metadata": {},
   "source": [
    "### 3. Dataset"
   ]
  },
  {
   "cell_type": "markdown",
   "id": "b968d06d-01c2-480f-a2ae-95fd2084181f",
   "metadata": {},
   "source": [
    "<h><i>Description and source:</i></h> \n",
    "\n",
    "The dataset was taken from the <a href='https://www.uvic.ca/ecs/ece/isot/'> 'Information security and object technology (ISOT) research lab'</a>, a part of the Engineering and Computer Sciences department of the University of Victoria, Australia.\n",
    "\n",
    "Dataset available at https://www.uvic.ca/ecs/ece/isot/datasets/fake-news/index.php<sup>[10]</sup>\n",
    "\n",
    "As provided in the <a href='https://www.uvic.ca/ecs/ece/isot/assets/docs/ISOT_Fake_News_Dataset_ReadMe.pdf'> dataset description</a>, the dataset consists of two CSV files, one for fake and one for real news. They are both of similar sizes, 23481 and 21417 samples respectively, providing an adequate number of samples for effective model training.\n",
    "\n",
    "Each CSV file has four columns ['title', 'text', 'subject', 'date']. The datatypes presented in both files are all String values (will be imported as 'object' datatypes through Pandas as can be seen below).\n",
    "\n",
    "It is stated the data collected is mostly from articles from 2016-2017 to match a Kaggle competition at the time.\n",
    "\n",
    "It is also stated the data has been cleaned and processed although \"the punctuations and mistakes that existed in the fake news were kept in the text\". This seems to imply there is possible punctuation removal from real news articles but not from fake ones, which is something which will need to be investigated to ensure the same cleaning is applied so the two sets are consistent for model training.\n",
    "\n",
    "<h><i>Reliability:</i></h> \n",
    "\n",
    "As described in the dataset description:\n",
    "<blockquote>This dataset was collected from real world sources; the truthful articles were obtained by crawling articles from Reuters.com (News website). As for the fake news articles, they were collected from different sources. The fake news articles were collected from unreliable websites that were flagged by Politifact (a fact-checking organization in the USA) and Wikipedia.</blockquote>\n",
    "\n",
    "The University of Victoria, Australia would seem to be a reliable source and hence a dataset which can be trusted. However, as can be seen from the dataset description, all the true news articles come from the same source, Reuters.com, while the fake stories come from a variety of news sources as identified by Politifact and Wikipedia. This is a potential source of bias in the dataset which may need to be taken into account and could potentially effect the validity of the classifiers results. e.g. If reuters.com has a specific style of writing, the classifier may lock on to this as 'real news' leading to failures when exposed to external datasets of true stories taken from other news sources.\n",
    "\n",
    "A secondary dataset will later be used for a second testing as a result to test the reliability. If results differ greatly, additional data may be required to be added to the true dataset for model training.\n",
    "\n",
    "\n"
   ]
  },
  {
   "cell_type": "code",
   "execution_count": 1,
   "id": "a5b26c51",
   "metadata": {},
   "outputs": [
    {
     "name": "stderr",
     "output_type": "stream",
     "text": [
      "[nltk_data] Downloading package stopwords to\n",
      "[nltk_data]     C:\\Users\\bli\\AppData\\Roaming\\nltk_data...\n",
      "[nltk_data]   Package stopwords is already up-to-date!\n"
     ]
    }
   ],
   "source": [
    "## Libraries for working with DataFrames and ndarrays\n",
    "# Pandas to load datsets\n",
    "import pandas as pd\n",
    "# Numpy for ndarray conversions\n",
    "import numpy as np\n",
    "\n",
    "## Libraries for model creation\n",
    "# train_test_split for splitting dataset\n",
    "from sklearn.model_selection import train_test_split\n",
    "# Import various classifiers for comparison of results\n",
    "from sklearn.naive_bayes import BernoulliNB\n",
    "from sklearn.naive_bayes import MultinomialNB\n",
    "from sklearn.linear_model import PassiveAggressiveClassifier\n",
    "from sklearn.linear_model import LogisticRegression\n",
    "from sklearn.ensemble import RandomForestClassifier\n",
    "from sklearn.ensemble import AdaBoostClassifier\n",
    "\n",
    "## Libraries for metrics to build confusion matrix\n",
    "from sklearn import metrics\n",
    "import matplotlib.pyplot as plt\n",
    "import itertools\n",
    "\n",
    "## Libraries for text normalization/cleaning\n",
    "# CountVectorizer for vectorization\n",
    "from sklearn.feature_extraction.text import CountVectorizer\n",
    "# TFIDF vectorizer for comparative vectorization\n",
    "from sklearn.feature_extraction.text import TfidfVectorizer\n",
    "# re for text cleaning\n",
    "import re\n",
    "# to remove stopwords\n",
    "from nltk.corpus import stopwords\n",
    "import nltk\n",
    "nltk.download('stopwords')\n",
    "# Counter to be used with stopwords\n",
    "from collections import Counter\n",
    "# WordNetLemmatizer for lemmatization\n",
    "from nltk.stem import WordNetLemmatizer"
   ]
  },
  {
   "cell_type": "markdown",
   "id": "010e52f3",
   "metadata": {},
   "source": [
    "### Exploration of the dataset"
   ]
  },
  {
   "cell_type": "code",
   "execution_count": 2,
   "id": "85648dff-87fa-4f78-9fc2-d6409df2406a",
   "metadata": {},
   "outputs": [],
   "source": [
    "fake = pd.read_csv('Fake.csv')\n",
    "real = pd.read_csv('True.csv')"
   ]
  },
  {
   "cell_type": "markdown",
   "id": "1c5bd4f2-e108-47a9-ba67-22f728e6725e",
   "metadata": {},
   "source": [
    "#### Fake News Dataset"
   ]
  },
  {
   "cell_type": "code",
   "execution_count": 3,
   "id": "f3126811-e6d9-44c5-a159-1c089a86ffa0",
   "metadata": {},
   "outputs": [
    {
     "data": {
      "text/html": [
       "<div>\n",
       "<style scoped>\n",
       "    .dataframe tbody tr th:only-of-type {\n",
       "        vertical-align: middle;\n",
       "    }\n",
       "\n",
       "    .dataframe tbody tr th {\n",
       "        vertical-align: top;\n",
       "    }\n",
       "\n",
       "    .dataframe thead th {\n",
       "        text-align: right;\n",
       "    }\n",
       "</style>\n",
       "<table border=\"1\" class=\"dataframe\">\n",
       "  <thead>\n",
       "    <tr style=\"text-align: right;\">\n",
       "      <th></th>\n",
       "      <th>title</th>\n",
       "      <th>text</th>\n",
       "      <th>subject</th>\n",
       "      <th>date</th>\n",
       "    </tr>\n",
       "  </thead>\n",
       "  <tbody>\n",
       "    <tr>\n",
       "      <th>0</th>\n",
       "      <td>Donald Trump Sends Out Embarrassing New Year’...</td>\n",
       "      <td>Donald Trump just couldn t wish all Americans ...</td>\n",
       "      <td>News</td>\n",
       "      <td>December 31, 2017</td>\n",
       "    </tr>\n",
       "    <tr>\n",
       "      <th>1</th>\n",
       "      <td>Drunk Bragging Trump Staffer Started Russian ...</td>\n",
       "      <td>House Intelligence Committee Chairman Devin Nu...</td>\n",
       "      <td>News</td>\n",
       "      <td>December 31, 2017</td>\n",
       "    </tr>\n",
       "    <tr>\n",
       "      <th>2</th>\n",
       "      <td>Sheriff David Clarke Becomes An Internet Joke...</td>\n",
       "      <td>On Friday, it was revealed that former Milwauk...</td>\n",
       "      <td>News</td>\n",
       "      <td>December 30, 2017</td>\n",
       "    </tr>\n",
       "    <tr>\n",
       "      <th>3</th>\n",
       "      <td>Trump Is So Obsessed He Even Has Obama’s Name...</td>\n",
       "      <td>On Christmas day, Donald Trump announced that ...</td>\n",
       "      <td>News</td>\n",
       "      <td>December 29, 2017</td>\n",
       "    </tr>\n",
       "    <tr>\n",
       "      <th>4</th>\n",
       "      <td>Pope Francis Just Called Out Donald Trump Dur...</td>\n",
       "      <td>Pope Francis used his annual Christmas Day mes...</td>\n",
       "      <td>News</td>\n",
       "      <td>December 25, 2017</td>\n",
       "    </tr>\n",
       "    <tr>\n",
       "      <th>5</th>\n",
       "      <td>Racist Alabama Cops Brutalize Black Boy While...</td>\n",
       "      <td>The number of cases of cops brutalizing and ki...</td>\n",
       "      <td>News</td>\n",
       "      <td>December 25, 2017</td>\n",
       "    </tr>\n",
       "    <tr>\n",
       "      <th>6</th>\n",
       "      <td>Fresh Off The Golf Course, Trump Lashes Out A...</td>\n",
       "      <td>Donald Trump spent a good portion of his day a...</td>\n",
       "      <td>News</td>\n",
       "      <td>December 23, 2017</td>\n",
       "    </tr>\n",
       "    <tr>\n",
       "      <th>7</th>\n",
       "      <td>Trump Said Some INSANELY Racist Stuff Inside ...</td>\n",
       "      <td>In the wake of yet another court decision that...</td>\n",
       "      <td>News</td>\n",
       "      <td>December 23, 2017</td>\n",
       "    </tr>\n",
       "    <tr>\n",
       "      <th>8</th>\n",
       "      <td>Former CIA Director Slams Trump Over UN Bully...</td>\n",
       "      <td>Many people have raised the alarm regarding th...</td>\n",
       "      <td>News</td>\n",
       "      <td>December 22, 2017</td>\n",
       "    </tr>\n",
       "    <tr>\n",
       "      <th>9</th>\n",
       "      <td>WATCH: Brand-New Pro-Trump Ad Features So Muc...</td>\n",
       "      <td>Just when you might have thought we d get a br...</td>\n",
       "      <td>News</td>\n",
       "      <td>December 21, 2017</td>\n",
       "    </tr>\n",
       "  </tbody>\n",
       "</table>\n",
       "</div>"
      ],
      "text/plain": [
       "                                               title  \\\n",
       "0   Donald Trump Sends Out Embarrassing New Year’...   \n",
       "1   Drunk Bragging Trump Staffer Started Russian ...   \n",
       "2   Sheriff David Clarke Becomes An Internet Joke...   \n",
       "3   Trump Is So Obsessed He Even Has Obama’s Name...   \n",
       "4   Pope Francis Just Called Out Donald Trump Dur...   \n",
       "5   Racist Alabama Cops Brutalize Black Boy While...   \n",
       "6   Fresh Off The Golf Course, Trump Lashes Out A...   \n",
       "7   Trump Said Some INSANELY Racist Stuff Inside ...   \n",
       "8   Former CIA Director Slams Trump Over UN Bully...   \n",
       "9   WATCH: Brand-New Pro-Trump Ad Features So Muc...   \n",
       "\n",
       "                                                text subject  \\\n",
       "0  Donald Trump just couldn t wish all Americans ...    News   \n",
       "1  House Intelligence Committee Chairman Devin Nu...    News   \n",
       "2  On Friday, it was revealed that former Milwauk...    News   \n",
       "3  On Christmas day, Donald Trump announced that ...    News   \n",
       "4  Pope Francis used his annual Christmas Day mes...    News   \n",
       "5  The number of cases of cops brutalizing and ki...    News   \n",
       "6  Donald Trump spent a good portion of his day a...    News   \n",
       "7  In the wake of yet another court decision that...    News   \n",
       "8  Many people have raised the alarm regarding th...    News   \n",
       "9  Just when you might have thought we d get a br...    News   \n",
       "\n",
       "                date  \n",
       "0  December 31, 2017  \n",
       "1  December 31, 2017  \n",
       "2  December 30, 2017  \n",
       "3  December 29, 2017  \n",
       "4  December 25, 2017  \n",
       "5  December 25, 2017  \n",
       "6  December 23, 2017  \n",
       "7  December 23, 2017  \n",
       "8  December 22, 2017  \n",
       "9  December 21, 2017  "
      ]
     },
     "execution_count": 3,
     "metadata": {},
     "output_type": "execute_result"
    }
   ],
   "source": [
    "# Check 'fake' was loaded correctly and view\n",
    "fake.head(10)"
   ]
  },
  {
   "cell_type": "code",
   "execution_count": 4,
   "id": "2fff2031-5bd1-424d-9db7-cf01f5160027",
   "metadata": {},
   "outputs": [
    {
     "name": "stdout",
     "output_type": "stream",
     "text": [
      "Number of data points:  23481 \n",
      "Number of variables 4\n",
      "Description of \"fake\" dataset:\n"
     ]
    },
    {
     "data": {
      "text/html": [
       "<div>\n",
       "<style scoped>\n",
       "    .dataframe tbody tr th:only-of-type {\n",
       "        vertical-align: middle;\n",
       "    }\n",
       "\n",
       "    .dataframe tbody tr th {\n",
       "        vertical-align: top;\n",
       "    }\n",
       "\n",
       "    .dataframe thead th {\n",
       "        text-align: right;\n",
       "    }\n",
       "</style>\n",
       "<table border=\"1\" class=\"dataframe\">\n",
       "  <thead>\n",
       "    <tr style=\"text-align: right;\">\n",
       "      <th></th>\n",
       "      <th>title</th>\n",
       "      <th>text</th>\n",
       "      <th>subject</th>\n",
       "      <th>date</th>\n",
       "    </tr>\n",
       "  </thead>\n",
       "  <tbody>\n",
       "    <tr>\n",
       "      <th>count</th>\n",
       "      <td>23481</td>\n",
       "      <td>23481</td>\n",
       "      <td>23481</td>\n",
       "      <td>23481</td>\n",
       "    </tr>\n",
       "    <tr>\n",
       "      <th>unique</th>\n",
       "      <td>17903</td>\n",
       "      <td>17455</td>\n",
       "      <td>6</td>\n",
       "      <td>1681</td>\n",
       "    </tr>\n",
       "    <tr>\n",
       "      <th>top</th>\n",
       "      <td>MEDIA IGNORES Time That Bill Clinton FIRED His...</td>\n",
       "      <td></td>\n",
       "      <td>News</td>\n",
       "      <td>May 10, 2017</td>\n",
       "    </tr>\n",
       "    <tr>\n",
       "      <th>freq</th>\n",
       "      <td>6</td>\n",
       "      <td>626</td>\n",
       "      <td>9050</td>\n",
       "      <td>46</td>\n",
       "    </tr>\n",
       "  </tbody>\n",
       "</table>\n",
       "</div>"
      ],
      "text/plain": [
       "                                                    title   text subject  \\\n",
       "count                                               23481  23481   23481   \n",
       "unique                                              17903  17455       6   \n",
       "top     MEDIA IGNORES Time That Bill Clinton FIRED His...           News   \n",
       "freq                                                    6    626    9050   \n",
       "\n",
       "                date  \n",
       "count          23481  \n",
       "unique          1681  \n",
       "top     May 10, 2017  \n",
       "freq              46  "
      ]
     },
     "execution_count": 4,
     "metadata": {},
     "output_type": "execute_result"
    }
   ],
   "source": [
    "print('Number of data points: ', fake.shape[0], '\\nNumber of variables', fake.shape[1])\n",
    "print('Description of \"fake\" dataset:')\n",
    "fake.describe()"
   ]
  },
  {
   "cell_type": "code",
   "execution_count": 5,
   "id": "fc508af4-6aad-4328-8a30-b2a5ce0166c9",
   "metadata": {},
   "outputs": [
    {
     "name": "stdout",
     "output_type": "stream",
     "text": [
      "<class 'pandas.core.frame.DataFrame'>\n",
      "RangeIndex: 23481 entries, 0 to 23480\n",
      "Data columns (total 4 columns):\n",
      " #   Column   Non-Null Count  Dtype \n",
      "---  ------   --------------  ----- \n",
      " 0   title    23481 non-null  object\n",
      " 1   text     23481 non-null  object\n",
      " 2   subject  23481 non-null  object\n",
      " 3   date     23481 non-null  object\n",
      "dtypes: object(4)\n",
      "memory usage: 733.9+ KB\n"
     ]
    }
   ],
   "source": [
    "# Get overview of datatypes, null values etc.\n",
    "fake.info()"
   ]
  },
  {
   "cell_type": "markdown",
   "id": "221e3f0a-e92f-4f42-9984-321d34d403ef",
   "metadata": {},
   "source": [
    "#### Real News Dataset"
   ]
  },
  {
   "cell_type": "code",
   "execution_count": 6,
   "id": "b6c56192-b992-40d2-86ae-693b878b2224",
   "metadata": {},
   "outputs": [
    {
     "data": {
      "text/html": [
       "<div>\n",
       "<style scoped>\n",
       "    .dataframe tbody tr th:only-of-type {\n",
       "        vertical-align: middle;\n",
       "    }\n",
       "\n",
       "    .dataframe tbody tr th {\n",
       "        vertical-align: top;\n",
       "    }\n",
       "\n",
       "    .dataframe thead th {\n",
       "        text-align: right;\n",
       "    }\n",
       "</style>\n",
       "<table border=\"1\" class=\"dataframe\">\n",
       "  <thead>\n",
       "    <tr style=\"text-align: right;\">\n",
       "      <th></th>\n",
       "      <th>title</th>\n",
       "      <th>text</th>\n",
       "      <th>subject</th>\n",
       "      <th>date</th>\n",
       "    </tr>\n",
       "  </thead>\n",
       "  <tbody>\n",
       "    <tr>\n",
       "      <th>0</th>\n",
       "      <td>As U.S. budget fight looms, Republicans flip t...</td>\n",
       "      <td>WASHINGTON (Reuters) - The head of a conservat...</td>\n",
       "      <td>politicsNews</td>\n",
       "      <td>December 31, 2017</td>\n",
       "    </tr>\n",
       "    <tr>\n",
       "      <th>1</th>\n",
       "      <td>U.S. military to accept transgender recruits o...</td>\n",
       "      <td>WASHINGTON (Reuters) - Transgender people will...</td>\n",
       "      <td>politicsNews</td>\n",
       "      <td>December 29, 2017</td>\n",
       "    </tr>\n",
       "    <tr>\n",
       "      <th>2</th>\n",
       "      <td>Senior U.S. Republican senator: 'Let Mr. Muell...</td>\n",
       "      <td>WASHINGTON (Reuters) - The special counsel inv...</td>\n",
       "      <td>politicsNews</td>\n",
       "      <td>December 31, 2017</td>\n",
       "    </tr>\n",
       "    <tr>\n",
       "      <th>3</th>\n",
       "      <td>FBI Russia probe helped by Australian diplomat...</td>\n",
       "      <td>WASHINGTON (Reuters) - Trump campaign adviser ...</td>\n",
       "      <td>politicsNews</td>\n",
       "      <td>December 30, 2017</td>\n",
       "    </tr>\n",
       "    <tr>\n",
       "      <th>4</th>\n",
       "      <td>Trump wants Postal Service to charge 'much mor...</td>\n",
       "      <td>SEATTLE/WASHINGTON (Reuters) - President Donal...</td>\n",
       "      <td>politicsNews</td>\n",
       "      <td>December 29, 2017</td>\n",
       "    </tr>\n",
       "    <tr>\n",
       "      <th>5</th>\n",
       "      <td>White House, Congress prepare for talks on spe...</td>\n",
       "      <td>WEST PALM BEACH, Fla./WASHINGTON (Reuters) - T...</td>\n",
       "      <td>politicsNews</td>\n",
       "      <td>December 29, 2017</td>\n",
       "    </tr>\n",
       "    <tr>\n",
       "      <th>6</th>\n",
       "      <td>Trump says Russia probe will be fair, but time...</td>\n",
       "      <td>WEST PALM BEACH, Fla (Reuters) - President Don...</td>\n",
       "      <td>politicsNews</td>\n",
       "      <td>December 29, 2017</td>\n",
       "    </tr>\n",
       "    <tr>\n",
       "      <th>7</th>\n",
       "      <td>Factbox: Trump on Twitter (Dec 29) - Approval ...</td>\n",
       "      <td>The following statements were posted to the ve...</td>\n",
       "      <td>politicsNews</td>\n",
       "      <td>December 29, 2017</td>\n",
       "    </tr>\n",
       "    <tr>\n",
       "      <th>8</th>\n",
       "      <td>Trump on Twitter (Dec 28) - Global Warming</td>\n",
       "      <td>The following statements were posted to the ve...</td>\n",
       "      <td>politicsNews</td>\n",
       "      <td>December 29, 2017</td>\n",
       "    </tr>\n",
       "    <tr>\n",
       "      <th>9</th>\n",
       "      <td>Alabama official to certify Senator-elect Jone...</td>\n",
       "      <td>WASHINGTON (Reuters) - Alabama Secretary of St...</td>\n",
       "      <td>politicsNews</td>\n",
       "      <td>December 28, 2017</td>\n",
       "    </tr>\n",
       "  </tbody>\n",
       "</table>\n",
       "</div>"
      ],
      "text/plain": [
       "                                               title  \\\n",
       "0  As U.S. budget fight looms, Republicans flip t...   \n",
       "1  U.S. military to accept transgender recruits o...   \n",
       "2  Senior U.S. Republican senator: 'Let Mr. Muell...   \n",
       "3  FBI Russia probe helped by Australian diplomat...   \n",
       "4  Trump wants Postal Service to charge 'much mor...   \n",
       "5  White House, Congress prepare for talks on spe...   \n",
       "6  Trump says Russia probe will be fair, but time...   \n",
       "7  Factbox: Trump on Twitter (Dec 29) - Approval ...   \n",
       "8         Trump on Twitter (Dec 28) - Global Warming   \n",
       "9  Alabama official to certify Senator-elect Jone...   \n",
       "\n",
       "                                                text       subject  \\\n",
       "0  WASHINGTON (Reuters) - The head of a conservat...  politicsNews   \n",
       "1  WASHINGTON (Reuters) - Transgender people will...  politicsNews   \n",
       "2  WASHINGTON (Reuters) - The special counsel inv...  politicsNews   \n",
       "3  WASHINGTON (Reuters) - Trump campaign adviser ...  politicsNews   \n",
       "4  SEATTLE/WASHINGTON (Reuters) - President Donal...  politicsNews   \n",
       "5  WEST PALM BEACH, Fla./WASHINGTON (Reuters) - T...  politicsNews   \n",
       "6  WEST PALM BEACH, Fla (Reuters) - President Don...  politicsNews   \n",
       "7  The following statements were posted to the ve...  politicsNews   \n",
       "8  The following statements were posted to the ve...  politicsNews   \n",
       "9  WASHINGTON (Reuters) - Alabama Secretary of St...  politicsNews   \n",
       "\n",
       "                 date  \n",
       "0  December 31, 2017   \n",
       "1  December 29, 2017   \n",
       "2  December 31, 2017   \n",
       "3  December 30, 2017   \n",
       "4  December 29, 2017   \n",
       "5  December 29, 2017   \n",
       "6  December 29, 2017   \n",
       "7  December 29, 2017   \n",
       "8  December 29, 2017   \n",
       "9  December 28, 2017   "
      ]
     },
     "execution_count": 6,
     "metadata": {},
     "output_type": "execute_result"
    }
   ],
   "source": [
    "# Check 'real' was loaded correctly and view\n",
    "real.head(10)"
   ]
  },
  {
   "cell_type": "code",
   "execution_count": 7,
   "id": "7f78d57a-cbff-4860-957f-dbc0d0822c5a",
   "metadata": {},
   "outputs": [
    {
     "name": "stdout",
     "output_type": "stream",
     "text": [
      "Number of data points:  21417 \n",
      "Number of variables 4\n",
      "Description of \"real\" dataset:\n"
     ]
    },
    {
     "data": {
      "text/html": [
       "<div>\n",
       "<style scoped>\n",
       "    .dataframe tbody tr th:only-of-type {\n",
       "        vertical-align: middle;\n",
       "    }\n",
       "\n",
       "    .dataframe tbody tr th {\n",
       "        vertical-align: top;\n",
       "    }\n",
       "\n",
       "    .dataframe thead th {\n",
       "        text-align: right;\n",
       "    }\n",
       "</style>\n",
       "<table border=\"1\" class=\"dataframe\">\n",
       "  <thead>\n",
       "    <tr style=\"text-align: right;\">\n",
       "      <th></th>\n",
       "      <th>title</th>\n",
       "      <th>text</th>\n",
       "      <th>subject</th>\n",
       "      <th>date</th>\n",
       "    </tr>\n",
       "  </thead>\n",
       "  <tbody>\n",
       "    <tr>\n",
       "      <th>count</th>\n",
       "      <td>21417</td>\n",
       "      <td>21417</td>\n",
       "      <td>21417</td>\n",
       "      <td>21417</td>\n",
       "    </tr>\n",
       "    <tr>\n",
       "      <th>unique</th>\n",
       "      <td>20826</td>\n",
       "      <td>21192</td>\n",
       "      <td>2</td>\n",
       "      <td>716</td>\n",
       "    </tr>\n",
       "    <tr>\n",
       "      <th>top</th>\n",
       "      <td>Factbox: Trump fills top jobs for his administ...</td>\n",
       "      <td>(Reuters) - Highlights for U.S. President Dona...</td>\n",
       "      <td>politicsNews</td>\n",
       "      <td>December 20, 2017</td>\n",
       "    </tr>\n",
       "    <tr>\n",
       "      <th>freq</th>\n",
       "      <td>14</td>\n",
       "      <td>8</td>\n",
       "      <td>11272</td>\n",
       "      <td>182</td>\n",
       "    </tr>\n",
       "  </tbody>\n",
       "</table>\n",
       "</div>"
      ],
      "text/plain": [
       "                                                    title  \\\n",
       "count                                               21417   \n",
       "unique                                              20826   \n",
       "top     Factbox: Trump fills top jobs for his administ...   \n",
       "freq                                                   14   \n",
       "\n",
       "                                                     text       subject  \\\n",
       "count                                               21417         21417   \n",
       "unique                                              21192             2   \n",
       "top     (Reuters) - Highlights for U.S. President Dona...  politicsNews   \n",
       "freq                                                    8         11272   \n",
       "\n",
       "                      date  \n",
       "count                21417  \n",
       "unique                 716  \n",
       "top     December 20, 2017   \n",
       "freq                   182  "
      ]
     },
     "execution_count": 7,
     "metadata": {},
     "output_type": "execute_result"
    }
   ],
   "source": [
    "print('Number of data points: ', real.shape[0], '\\nNumber of variables', real.shape[1])\n",
    "print('Description of \"real\" dataset:')\n",
    "real.describe()"
   ]
  },
  {
   "cell_type": "code",
   "execution_count": 8,
   "id": "f5c4f974-16c1-4a3b-a7b3-fc54d8bc3af2",
   "metadata": {},
   "outputs": [
    {
     "name": "stdout",
     "output_type": "stream",
     "text": [
      "<class 'pandas.core.frame.DataFrame'>\n",
      "RangeIndex: 21417 entries, 0 to 21416\n",
      "Data columns (total 4 columns):\n",
      " #   Column   Non-Null Count  Dtype \n",
      "---  ------   --------------  ----- \n",
      " 0   title    21417 non-null  object\n",
      " 1   text     21417 non-null  object\n",
      " 2   subject  21417 non-null  object\n",
      " 3   date     21417 non-null  object\n",
      "dtypes: object(4)\n",
      "memory usage: 669.4+ KB\n"
     ]
    }
   ],
   "source": [
    "# Get overview of datatypes, null values etc.\n",
    "real.info()"
   ]
  },
  {
   "cell_type": "markdown",
   "id": "9c2aaf0e-35b5-4fd5-b732-cde8092d5aa4",
   "metadata": {},
   "source": [
    "### 4. Evaluation methodology"
   ]
  },
  {
   "cell_type": "markdown",
   "id": "19a846af-7f0d-4f5d-a4a5-10a8284d151f",
   "metadata": {},
   "source": [
    "I will be using two primary metrics to evaluate the model; <b>accuracy and precision</b>.\n",
    "\n",
    "The primary objective is to build a model which can successfully identify fake news from real news, so the model's ability to classify fake news (class 1) correctly is paramount. For this, precision is going to be used as a primary metric. \n",
    "\n",
    "However, for the model's deployment to ultimately contribute to its problem area, it needs to be able to accurately predict if the news is real the majority of the time as well. Otherwise, it won't be a usable classifier if it regularly discards real news. For this reason, accuracy will also be considered a primary metric to judge performance by. \n",
    "\n",
    "Continuing from the need to also identify real news successfully, model recall and f1 score will be calculated for the model to ensure it is not overly targeted to only classify fake news. They will not be considered heavily unless there is a substantial gap between precision and recall.\n",
    "\n",
    "<b>Primary model evaluations will take place on the test data set</b> (the original data set will be split between test and training) to determine accuracy and precision on the test set. However, performance on a test set has limited value for determining if the model will generalize well to new data in real life. Following this reason, to test if the classifier is able to generalize well outside of the test dataset, the model will be tested on a secondary dataset (from which no part of it has been used in training data) but consists of similar fake / real news stories. The <b>model will then be judged by its accuracy and precision when exposed to the new data</b>. This is designed to <b>test its ability to generalize</b> well to ensure the model is usable in its real life task of tackling the problem area."
   ]
  },
  {
   "cell_type": "markdown",
   "id": "6985c038-7592-4251-8f2c-aba56d46eee8",
   "metadata": {},
   "source": [
    "## II. Implementation"
   ]
  },
  {
   "cell_type": "markdown",
   "id": "2dd688cc-6ccd-4e6a-b4ea-564194642b06",
   "metadata": {},
   "source": [
    "### 5. Preprocessing"
   ]
  },
  {
   "cell_type": "markdown",
   "id": "68b95f42-325a-414c-a7fc-b45ddda85795",
   "metadata": {},
   "source": [
    "The very first thing I want to do is to add labels to the real and fake datasets so they can be identified after combining. I will use '0' for 'real' and '1' for 'fake' - as it is our target class we are trying to identify."
   ]
  },
  {
   "cell_type": "code",
   "execution_count": 9,
   "id": "d9ff6b8e-5930-429a-a70e-eaa36bf0fafa",
   "metadata": {},
   "outputs": [],
   "source": [
    "# Adding labels to the datasets before combining\n",
    "real['class'] = 0\n",
    "fake['class'] = 1"
   ]
  },
  {
   "cell_type": "code",
   "execution_count": 10,
   "id": "7f068a16-3ede-418c-af78-a8dab69f9194",
   "metadata": {},
   "outputs": [
    {
     "data": {
      "text/html": [
       "<div>\n",
       "<style scoped>\n",
       "    .dataframe tbody tr th:only-of-type {\n",
       "        vertical-align: middle;\n",
       "    }\n",
       "\n",
       "    .dataframe tbody tr th {\n",
       "        vertical-align: top;\n",
       "    }\n",
       "\n",
       "    .dataframe thead th {\n",
       "        text-align: right;\n",
       "    }\n",
       "</style>\n",
       "<table border=\"1\" class=\"dataframe\">\n",
       "  <thead>\n",
       "    <tr style=\"text-align: right;\">\n",
       "      <th></th>\n",
       "      <th>title</th>\n",
       "      <th>text</th>\n",
       "      <th>subject</th>\n",
       "      <th>date</th>\n",
       "      <th>class</th>\n",
       "    </tr>\n",
       "  </thead>\n",
       "  <tbody>\n",
       "    <tr>\n",
       "      <th>0</th>\n",
       "      <td>As U.S. budget fight looms, Republicans flip t...</td>\n",
       "      <td>WASHINGTON (Reuters) - The head of a conservat...</td>\n",
       "      <td>politicsNews</td>\n",
       "      <td>December 31, 2017</td>\n",
       "      <td>0</td>\n",
       "    </tr>\n",
       "    <tr>\n",
       "      <th>1</th>\n",
       "      <td>U.S. military to accept transgender recruits o...</td>\n",
       "      <td>WASHINGTON (Reuters) - Transgender people will...</td>\n",
       "      <td>politicsNews</td>\n",
       "      <td>December 29, 2017</td>\n",
       "      <td>0</td>\n",
       "    </tr>\n",
       "    <tr>\n",
       "      <th>2</th>\n",
       "      <td>Senior U.S. Republican senator: 'Let Mr. Muell...</td>\n",
       "      <td>WASHINGTON (Reuters) - The special counsel inv...</td>\n",
       "      <td>politicsNews</td>\n",
       "      <td>December 31, 2017</td>\n",
       "      <td>0</td>\n",
       "    </tr>\n",
       "  </tbody>\n",
       "</table>\n",
       "</div>"
      ],
      "text/plain": [
       "                                               title  \\\n",
       "0  As U.S. budget fight looms, Republicans flip t...   \n",
       "1  U.S. military to accept transgender recruits o...   \n",
       "2  Senior U.S. Republican senator: 'Let Mr. Muell...   \n",
       "\n",
       "                                                text       subject  \\\n",
       "0  WASHINGTON (Reuters) - The head of a conservat...  politicsNews   \n",
       "1  WASHINGTON (Reuters) - Transgender people will...  politicsNews   \n",
       "2  WASHINGTON (Reuters) - The special counsel inv...  politicsNews   \n",
       "\n",
       "                 date  class  \n",
       "0  December 31, 2017       0  \n",
       "1  December 29, 2017       0  \n",
       "2  December 31, 2017       0  "
      ]
     },
     "execution_count": 10,
     "metadata": {},
     "output_type": "execute_result"
    }
   ],
   "source": [
    "real.head(3)"
   ]
  },
  {
   "cell_type": "code",
   "execution_count": 11,
   "id": "4783e696-0cb0-452d-80c0-9e02feab7d20",
   "metadata": {},
   "outputs": [
    {
     "data": {
      "text/html": [
       "<div>\n",
       "<style scoped>\n",
       "    .dataframe tbody tr th:only-of-type {\n",
       "        vertical-align: middle;\n",
       "    }\n",
       "\n",
       "    .dataframe tbody tr th {\n",
       "        vertical-align: top;\n",
       "    }\n",
       "\n",
       "    .dataframe thead th {\n",
       "        text-align: right;\n",
       "    }\n",
       "</style>\n",
       "<table border=\"1\" class=\"dataframe\">\n",
       "  <thead>\n",
       "    <tr style=\"text-align: right;\">\n",
       "      <th></th>\n",
       "      <th>title</th>\n",
       "      <th>text</th>\n",
       "      <th>subject</th>\n",
       "      <th>date</th>\n",
       "      <th>class</th>\n",
       "    </tr>\n",
       "  </thead>\n",
       "  <tbody>\n",
       "    <tr>\n",
       "      <th>0</th>\n",
       "      <td>Donald Trump Sends Out Embarrassing New Year’...</td>\n",
       "      <td>Donald Trump just couldn t wish all Americans ...</td>\n",
       "      <td>News</td>\n",
       "      <td>December 31, 2017</td>\n",
       "      <td>1</td>\n",
       "    </tr>\n",
       "    <tr>\n",
       "      <th>1</th>\n",
       "      <td>Drunk Bragging Trump Staffer Started Russian ...</td>\n",
       "      <td>House Intelligence Committee Chairman Devin Nu...</td>\n",
       "      <td>News</td>\n",
       "      <td>December 31, 2017</td>\n",
       "      <td>1</td>\n",
       "    </tr>\n",
       "    <tr>\n",
       "      <th>2</th>\n",
       "      <td>Sheriff David Clarke Becomes An Internet Joke...</td>\n",
       "      <td>On Friday, it was revealed that former Milwauk...</td>\n",
       "      <td>News</td>\n",
       "      <td>December 30, 2017</td>\n",
       "      <td>1</td>\n",
       "    </tr>\n",
       "  </tbody>\n",
       "</table>\n",
       "</div>"
      ],
      "text/plain": [
       "                                               title  \\\n",
       "0   Donald Trump Sends Out Embarrassing New Year’...   \n",
       "1   Drunk Bragging Trump Staffer Started Russian ...   \n",
       "2   Sheriff David Clarke Becomes An Internet Joke...   \n",
       "\n",
       "                                                text subject  \\\n",
       "0  Donald Trump just couldn t wish all Americans ...    News   \n",
       "1  House Intelligence Committee Chairman Devin Nu...    News   \n",
       "2  On Friday, it was revealed that former Milwauk...    News   \n",
       "\n",
       "                date  class  \n",
       "0  December 31, 2017      1  \n",
       "1  December 31, 2017      1  \n",
       "2  December 30, 2017      1  "
      ]
     },
     "execution_count": 11,
     "metadata": {},
     "output_type": "execute_result"
    }
   ],
   "source": [
    "fake.head(3)"
   ]
  },
  {
   "cell_type": "markdown",
   "id": "497385b5",
   "metadata": {},
   "source": [
    "Followed by running a few checks to make sure the columns contain 0/1 for each variable."
   ]
  },
  {
   "cell_type": "code",
   "execution_count": 12,
   "id": "f222cbc7-c3e5-45e1-b8c8-ff80f40aae9b",
   "metadata": {},
   "outputs": [
    {
     "name": "stdout",
     "output_type": "stream",
     "text": [
      "21417\n",
      "0\n",
      "0\n"
     ]
    }
   ],
   "source": [
    "# Confirm 'real' class values are 0s \n",
    "print(len(real))\n",
    "# Check max is 0\n",
    "print(max(real['class']))\n",
    "# Check all are 0\n",
    "print(sum(real['class']))"
   ]
  },
  {
   "cell_type": "code",
   "execution_count": 13,
   "id": "e2b0ac7d-6b5d-4535-a24b-d7cd624e6b0e",
   "metadata": {},
   "outputs": [
    {
     "name": "stdout",
     "output_type": "stream",
     "text": [
      "23481\n",
      "1\n",
      "23481\n"
     ]
    }
   ],
   "source": [
    "# Confirm 'fake' class values are 1s\n",
    "print(len(fake))\n",
    "# Check 1 is max\n",
    "print(max(fake['class']))\n",
    "# Check each row is 1 by seeing if total sums to length\n",
    "print(sum(fake['class']))"
   ]
  },
  {
   "cell_type": "markdown",
   "id": "eaa62127-115f-4989-9083-c920871566a2",
   "metadata": {},
   "source": [
    "Now classes have been added, I want to check the validity of the dataset as a whole by checking for NaN values."
   ]
  },
  {
   "cell_type": "code",
   "execution_count": 14,
   "id": "ff1c9c91-3f31-4e73-9b1a-b672bbf593bc",
   "metadata": {},
   "outputs": [
    {
     "data": {
      "text/plain": [
       "title      0\n",
       "text       0\n",
       "subject    0\n",
       "date       0\n",
       "class      0\n",
       "dtype: int64"
      ]
     },
     "execution_count": 14,
     "metadata": {},
     "output_type": "execute_result"
    }
   ],
   "source": [
    "# Check for missing values in the real dataset\n",
    "real.isna().sum()"
   ]
  },
  {
   "cell_type": "code",
   "execution_count": 15,
   "id": "341b70b7-5c32-4c39-8bb7-6d261ee12805",
   "metadata": {},
   "outputs": [
    {
     "data": {
      "text/plain": [
       "title      0\n",
       "text       0\n",
       "subject    0\n",
       "date       0\n",
       "class      0\n",
       "dtype: int64"
      ]
     },
     "execution_count": 15,
     "metadata": {},
     "output_type": "execute_result"
    }
   ],
   "source": [
    "# Check for missing values in the fake dataset\n",
    "fake.isna().sum()"
   ]
  },
  {
   "cell_type": "markdown",
   "id": "6c3629d4-b15d-45db-b67a-1ace7d56023a",
   "metadata": {},
   "source": [
    "This appears to be a very good dataset, without any missing or otherwise problematic values. As such, the next step is to combine the 'real' and 'fake' datasets into one dataset.\n",
    "\n",
    "<i>Note for marker:</i> If there had been NaN values in any of the columns, I would have handled this on a column by column basis. If in the 'title' or 'text' column, I would have dropped the row. If in the 'date' column, it could be ignored as I will likely drop the whole column later. If in the subject column, I'm not 100% sure if this will be relevant at this stage. It could possibly be ignored at this point or potentially look at alternative ways to fill them with imputation though a model etc."
   ]
  },
  {
   "cell_type": "code",
   "execution_count": 16,
   "id": "3ddf8dec-0e86-489c-9575-3af8a8687e54",
   "metadata": {},
   "outputs": [
    {
     "data": {
      "text/html": [
       "<div>\n",
       "<style scoped>\n",
       "    .dataframe tbody tr th:only-of-type {\n",
       "        vertical-align: middle;\n",
       "    }\n",
       "\n",
       "    .dataframe tbody tr th {\n",
       "        vertical-align: top;\n",
       "    }\n",
       "\n",
       "    .dataframe thead th {\n",
       "        text-align: right;\n",
       "    }\n",
       "</style>\n",
       "<table border=\"1\" class=\"dataframe\">\n",
       "  <thead>\n",
       "    <tr style=\"text-align: right;\">\n",
       "      <th></th>\n",
       "      <th>title</th>\n",
       "      <th>text</th>\n",
       "      <th>subject</th>\n",
       "      <th>date</th>\n",
       "      <th>class</th>\n",
       "    </tr>\n",
       "  </thead>\n",
       "  <tbody>\n",
       "    <tr>\n",
       "      <th>0</th>\n",
       "      <td>Five Things You Need to Know About CrowdStrike</td>\n",
       "      <td>. The Daily CallerThe Democratic Party and mai...</td>\n",
       "      <td>Middle-east</td>\n",
       "      <td>August 19, 2017</td>\n",
       "      <td>1</td>\n",
       "    </tr>\n",
       "    <tr>\n",
       "      <th>1</th>\n",
       "      <td>TWITTER Posts Hilarious Images After Announcem...</td>\n",
       "      <td>Here s the original post by the Washington Pos...</td>\n",
       "      <td>politics</td>\n",
       "      <td>Apr 13, 2017</td>\n",
       "      <td>1</td>\n",
       "    </tr>\n",
       "    <tr>\n",
       "      <th>2</th>\n",
       "      <td>House votes to protect 'dark money' political ...</td>\n",
       "      <td>WASHINGTON (Reuters) - The Republican-controll...</td>\n",
       "      <td>politicsNews</td>\n",
       "      <td>June 14, 2016</td>\n",
       "      <td>0</td>\n",
       "    </tr>\n",
       "    <tr>\n",
       "      <th>3</th>\n",
       "      <td>Henningsen on CrossTalk Debating ‘Trump &amp; His ...</td>\n",
       "      <td>Has President Trump handed over US foreign pol...</td>\n",
       "      <td>US_News</td>\n",
       "      <td>September 15, 2017</td>\n",
       "      <td>1</td>\n",
       "    </tr>\n",
       "    <tr>\n",
       "      <th>4</th>\n",
       "      <td>Trump, Ghani agree U.S. can help develop Afgha...</td>\n",
       "      <td>(Reuters) - U.S. President Donald Trump and Af...</td>\n",
       "      <td>worldnews</td>\n",
       "      <td>September 22, 2017</td>\n",
       "      <td>0</td>\n",
       "    </tr>\n",
       "  </tbody>\n",
       "</table>\n",
       "</div>"
      ],
      "text/plain": [
       "                                               title  \\\n",
       "0     Five Things You Need to Know About CrowdStrike   \n",
       "1  TWITTER Posts Hilarious Images After Announcem...   \n",
       "2  House votes to protect 'dark money' political ...   \n",
       "3  Henningsen on CrossTalk Debating ‘Trump & His ...   \n",
       "4  Trump, Ghani agree U.S. can help develop Afgha...   \n",
       "\n",
       "                                                text       subject  \\\n",
       "0  . The Daily CallerThe Democratic Party and mai...   Middle-east   \n",
       "1  Here s the original post by the Washington Pos...      politics   \n",
       "2  WASHINGTON (Reuters) - The Republican-controll...  politicsNews   \n",
       "3  Has President Trump handed over US foreign pol...       US_News   \n",
       "4  (Reuters) - U.S. President Donald Trump and Af...     worldnews   \n",
       "\n",
       "                  date  class  \n",
       "0      August 19, 2017      1  \n",
       "1         Apr 13, 2017      1  \n",
       "2       June 14, 2016       0  \n",
       "3   September 15, 2017      1  \n",
       "4  September 22, 2017       0  "
      ]
     },
     "execution_count": 16,
     "metadata": {},
     "output_type": "execute_result"
    }
   ],
   "source": [
    "# Concatinate the two datasets into a new full dataset\n",
    "df = pd.concat([real, fake], ignore_index=True)\n",
    "# Shuffle order of data points so classes aren't grouped together\n",
    "df = df.sample(frac=1).reset_index(drop=True)\n",
    "df.head()"
   ]
  },
  {
   "cell_type": "code",
   "execution_count": 17,
   "id": "a7e0ac4a-a115-4d1c-85ab-6292bb6bf2f9",
   "metadata": {},
   "outputs": [
    {
     "name": "stdout",
     "output_type": "stream",
     "text": [
      "New DataFrame length:  44898 \n",
      "Combined length of \"real\" and \"fake\" DataFrames:  44898\n"
     ]
    }
   ],
   "source": [
    "# Comfirm concatination was successful by length check\n",
    "print('New DataFrame length: ', len(df), '\\nCombined length of \"real\" and \"fake\" DataFrames: ', int( len(fake) + (len(real)) ) )"
   ]
  },
  {
   "cell_type": "markdown",
   "id": "d19e1caa",
   "metadata": {},
   "source": [
    "Now that our DataFrame is in a usable state, it is time to clean the data within it. I will begin by running text normalization to remove stopwords, change to lower case, remove symbols etc."
   ]
  },
  {
   "cell_type": "code",
   "execution_count": 18,
   "id": "c4409d21",
   "metadata": {},
   "outputs": [],
   "source": [
    "## Text normalization\n",
    "\n",
    "# Create counter with stopwords (note: without a counter, run time is exponential)\n",
    "stopwords_dict = Counter(stopwords.words('english'))\n",
    "# Create lemmatizer\n",
    "lemmatizer = WordNetLemmatizer()\n",
    "# Empty list to store cleaned data\n",
    "corpus = []\n",
    "\n",
    "for i in range(0, len(df)):\n",
    "    # Replace all non-letters with ' '\n",
    "    cleaned_text = re.sub('[^a-zA-Z]', ' ', df['text'][i])\n",
    "    # Change text to lowercase\n",
    "    cleaned_text = cleaned_text.lower()\n",
    "    # Split text for lemmatization\n",
    "    cleaned_text = cleaned_text.split()\n",
    "    # Lemmatize and remove stopwords \n",
    "    cleaned_text = [lemmatizer.lemmatize(j) for j in cleaned_text if not j in stopwords_dict]\n",
    "    # Rejoin individual words to sentences \n",
    "    cleaned_text = ' '.join(cleaned_text)\n",
    "    # Append sentences to corpus\n",
    "    corpus.append(cleaned_text)"
   ]
  },
  {
   "cell_type": "code",
   "execution_count": 19,
   "id": "b69f3023",
   "metadata": {},
   "outputs": [
    {
     "name": "stdout",
     "output_type": "stream",
     "text": [
      "44898\n",
      "44898\n"
     ]
    }
   ],
   "source": [
    "# Check data is still in correct format\n",
    "print(len(corpus))\n",
    "print(len(df))"
   ]
  },
  {
   "cell_type": "code",
   "execution_count": 20,
   "id": "ba54d543",
   "metadata": {},
   "outputs": [
    {
     "data": {
      "text/plain": [
       "array([1, 1, 0, ..., 0, 1, 0], dtype=int64)"
      ]
     },
     "execution_count": 20,
     "metadata": {},
     "output_type": "execute_result"
    }
   ],
   "source": [
    "# Set y values from labels\n",
    "y = np.array(df.iloc[:,-1])\n",
    "y"
   ]
  },
  {
   "cell_type": "markdown",
   "id": "ec80b8f8",
   "metadata": {},
   "source": [
    "### Count Vectorizer"
   ]
  },
  {
   "cell_type": "markdown",
   "id": "5a59a6d5",
   "metadata": {},
   "source": [
    "The count vectorizer will be using the 1000 most common features with an ngram range or 1-3. This should provide the classifier with a good amount of useful data to train on while also not creating too wide an array of data so that processing is slow/memory inhibitive."
   ]
  },
  {
   "cell_type": "code",
   "execution_count": 21,
   "id": "be36370d",
   "metadata": {},
   "outputs": [],
   "source": [
    "# Create vectorizer and vectorize titles into ngrams\n",
    "count_vectorizer = CountVectorizer(max_features = 1000, ngram_range = (1, 3))\n",
    "vec_corpus = count_vectorizer.fit_transform(corpus).toarray()"
   ]
  },
  {
   "cell_type": "code",
   "execution_count": 22,
   "id": "3fc1a543",
   "metadata": {},
   "outputs": [
    {
     "name": "stdout",
     "output_type": "stream",
     "text": [
      "(44898, 1000)\n"
     ]
    },
    {
     "data": {
      "text/plain": [
       "array([[0, 0, 0, ..., 0, 0, 0],\n",
       "       [0, 0, 0, ..., 0, 0, 0],\n",
       "       [0, 0, 0, ..., 0, 0, 0],\n",
       "       ...,\n",
       "       [0, 0, 0, ..., 1, 0, 0],\n",
       "       [0, 0, 0, ..., 0, 0, 0],\n",
       "       [0, 0, 0, ..., 0, 0, 0]], dtype=int64)"
      ]
     },
     "execution_count": 22,
     "metadata": {},
     "output_type": "execute_result"
    }
   ],
   "source": [
    "# Check vectorization ran as expected\n",
    "print(vec_corpus.shape)\n",
    "vec_corpus"
   ]
  },
  {
   "cell_type": "code",
   "execution_count": 23,
   "id": "7ce311bd",
   "metadata": {},
   "outputs": [
    {
     "data": {
      "text/plain": [
       "{'analyzer': 'word',\n",
       " 'binary': False,\n",
       " 'decode_error': 'strict',\n",
       " 'dtype': numpy.int64,\n",
       " 'encoding': 'utf-8',\n",
       " 'input': 'content',\n",
       " 'lowercase': True,\n",
       " 'max_df': 1.0,\n",
       " 'max_features': 1000,\n",
       " 'min_df': 1,\n",
       " 'ngram_range': (1, 3),\n",
       " 'preprocessor': None,\n",
       " 'stop_words': None,\n",
       " 'strip_accents': None,\n",
       " 'token_pattern': '(?u)\\\\b\\\\w\\\\w+\\\\b',\n",
       " 'tokenizer': None,\n",
       " 'vocabulary': None}"
      ]
     },
     "execution_count": 23,
     "metadata": {},
     "output_type": "execute_result"
    }
   ],
   "source": [
    "# View vectorizer parameters\n",
    "count_vectorizer.get_params()"
   ]
  },
  {
   "cell_type": "code",
   "execution_count": 24,
   "id": "2629febe",
   "metadata": {},
   "outputs": [
    {
     "name": "stderr",
     "output_type": "stream",
     "text": [
      "C:\\Users\\bli\\Anaconda3\\lib\\site-packages\\sklearn\\utils\\deprecation.py:87: FutureWarning: Function get_feature_names is deprecated; get_feature_names is deprecated in 1.0 and will be removed in 1.2. Please use get_feature_names_out instead.\n",
      "  warnings.warn(msg, category=FutureWarning)\n"
     ]
    },
    {
     "data": {
      "text/plain": [
       "['able',\n",
       " 'abortion',\n",
       " 'absolutely',\n",
       " 'access',\n",
       " 'according',\n",
       " 'account',\n",
       " 'accused',\n",
       " 'across',\n",
       " 'act',\n",
       " 'action']"
      ]
     },
     "execution_count": 24,
     "metadata": {},
     "output_type": "execute_result"
    }
   ],
   "source": [
    "# View first 10 feature names to check they are appearing as expected\n",
    "count_vectorizer.get_feature_names()[:10]"
   ]
  },
  {
   "cell_type": "markdown",
   "id": "cf8be681",
   "metadata": {},
   "source": [
    "Theoretically speaking, Term Frequency Inverse Document Frequency (TFIDF) would be expected to achieve higher results than count vectorization as it takes into account both the importance of a word in a document as well as the number of documents in which it is present<sup>[17]</sup>.\n",
    "\n",
    "As such, I will be used TFIDF as well to compare the two approaches and hopefully achieve higher accuracy. I will use the same parameters as with the count vectorizer for fairness."
   ]
  },
  {
   "cell_type": "markdown",
   "id": "0864742f",
   "metadata": {},
   "source": [
    "#### TFIDF Vectorization"
   ]
  },
  {
   "cell_type": "code",
   "execution_count": 25,
   "id": "03962f11",
   "metadata": {},
   "outputs": [],
   "source": [
    "# Create tfidf vectorizer and fit_transform with corpus\n",
    "tfidf_vectorizer = TfidfVectorizer(max_features = 1000, ngram_range = (1, 3))\n",
    "tfidf_corpus = tfidf_vectorizer.fit_transform(corpus).toarray()"
   ]
  },
  {
   "cell_type": "code",
   "execution_count": 26,
   "id": "e5e2087b",
   "metadata": {},
   "outputs": [
    {
     "name": "stdout",
     "output_type": "stream",
     "text": [
      "(44898, 1000)\n"
     ]
    },
    {
     "data": {
      "text/plain": [
       "array([[0, 0, 0, ..., 0, 0, 0],\n",
       "       [0, 0, 0, ..., 0, 0, 0],\n",
       "       [0, 0, 0, ..., 0, 0, 0],\n",
       "       ...,\n",
       "       [0, 0, 0, ..., 1, 0, 0],\n",
       "       [0, 0, 0, ..., 0, 0, 0],\n",
       "       [0, 0, 0, ..., 0, 0, 0]], dtype=int64)"
      ]
     },
     "execution_count": 26,
     "metadata": {},
     "output_type": "execute_result"
    }
   ],
   "source": [
    "# Check vectorization ran as expected\n",
    "print(tfidf_corpus.shape)\n",
    "vec_corpus"
   ]
  },
  {
   "cell_type": "code",
   "execution_count": 27,
   "id": "b9747bad",
   "metadata": {},
   "outputs": [
    {
     "data": {
      "text/plain": [
       "['able',\n",
       " 'abortion',\n",
       " 'absolutely',\n",
       " 'access',\n",
       " 'according',\n",
       " 'account',\n",
       " 'accused',\n",
       " 'across',\n",
       " 'act',\n",
       " 'action']"
      ]
     },
     "execution_count": 27,
     "metadata": {},
     "output_type": "execute_result"
    }
   ],
   "source": [
    "# View first 10 feature names to check they are appearing as expected\n",
    "tfidf_vectorizer.get_feature_names()[:10]"
   ]
  },
  {
   "cell_type": "code",
   "execution_count": 28,
   "id": "f2c6b11f",
   "metadata": {},
   "outputs": [
    {
     "data": {
      "text/plain": [
       "{'analyzer': 'word',\n",
       " 'binary': False,\n",
       " 'decode_error': 'strict',\n",
       " 'dtype': numpy.float64,\n",
       " 'encoding': 'utf-8',\n",
       " 'input': 'content',\n",
       " 'lowercase': True,\n",
       " 'max_df': 1.0,\n",
       " 'max_features': 1000,\n",
       " 'min_df': 1,\n",
       " 'ngram_range': (1, 3),\n",
       " 'norm': 'l2',\n",
       " 'preprocessor': None,\n",
       " 'smooth_idf': True,\n",
       " 'stop_words': None,\n",
       " 'strip_accents': None,\n",
       " 'sublinear_tf': False,\n",
       " 'token_pattern': '(?u)\\\\b\\\\w\\\\w+\\\\b',\n",
       " 'tokenizer': None,\n",
       " 'use_idf': True,\n",
       " 'vocabulary': None}"
      ]
     },
     "execution_count": 28,
     "metadata": {},
     "output_type": "execute_result"
    }
   ],
   "source": [
    "# View vectorizer parameters\n",
    "tfidf_vectorizer.get_params()"
   ]
  },
  {
   "cell_type": "markdown",
   "id": "961c04b4-c4e5-489a-96ec-07481c53bf43",
   "metadata": {},
   "source": [
    "### 6. Baseline performance"
   ]
  },
  {
   "cell_type": "markdown",
   "id": "24fb98ef",
   "metadata": {},
   "source": [
    "Fake news detection is an area which has had a large amount of research dedicated to its study and thus provides us with a variety of credible baselines to go on. \n",
    "\n",
    "To get started with to ensure our model is successful, we will aim to beat a simple \"dumb baseline\". The lowest standard to beat would simply be a model which predicts the most prevalent class 100% of the time. In this case, it could predict 'fake' (class 1) every time and achieve an accuracy of 23481/44898 = 52%. To ensure our model is more successful than just predicting a dumb baseline of class 1 every time, our <b>simple baseline will be beating 52% accuracy</b>.\n",
    "\n",
    "For our secondary and more advanced baseline; to choose a suitable baseline against which to classify I have considered several successful recently published classification studies which use a variety of more complicated approaches than what we will be using to establish a baseline against.\n",
    "\n",
    "Kaliyar, R.K. et al. (2021)<sup>[13]</sup> build a deep network focused on 'both the content of the news article and the existence of echo chambers in the social network for fake news detection'<sup>[13]</sup> achieving a validation accuracy of 92.30%, validated on real world fake news datasets from PolitiFact and BuzzFeed.\n",
    "\n",
    "Alternatively, Shu et al. (2021)<sup>[14]</sup> developed a sentence-comment co-attention sub-network which considers both news contents as well as user comments to detect fake stories. Using this approach they were able to obtain a 90.40% accuracy, using social context based features only, on the PolitiFact dataset.\n",
    "\n",
    "Taking a different approach again, Zhou X, et al (2020)<sup>[15]</sup> developed a fake news detector based on their text and images and where there were 'mismatches' and were able to achieve accuracy of 87.4%, precision of 88.9%, and recall of 90.3% on the PolitiFact dataset.\n",
    "\n",
    "Islam N, et al (2021)<sup>[16]</sup> took a three step approach of 'stance detection, author credibility verification, and machine learning-based classification'<sup>[16]</sup> using a 'Fake News Dataset' from Kaggle with a variety of classification algorithms including; decision trees, random forest, logistic regression, and support vector machines. They were able to achieve a peak accuracy of 93.15%, precision of 92.65%, and recall of 95.71% using SVMs.\n",
    "\n",
    "The four above studies all took differing and novel approaches to achieving their results, generally achieving results in the low 90s percent range. The highest scoring of these, Islam N, et al (2021), was also using a Kaggle data set and achieved slightly higher accuracy using a variety of classifiers and a recall of over 95%. \n",
    "\n",
    "As I deem the achievement of successfully classifying fake news to be more imperative than misclassifying real news, given its potentially social etc. implications, recall is going to be more important that overall accuracy for me. Given the marginally higher general results from Islam N, et al (2021) and the similarities of datasets and multi-classifiers used, I will use their metrics as a <b>more advanced baseline</b> moving forward in this study - <b>accuracy: 93.15%, precision: 92.65%, recall: 95.71%</b>."
   ]
  },
  {
   "cell_type": "markdown",
   "id": "198999b7",
   "metadata": {},
   "source": [
    "#### Helper Codes"
   ]
  },
  {
   "cell_type": "code",
   "execution_count": 29,
   "id": "d603db64",
   "metadata": {},
   "outputs": [],
   "source": [
    "# Function to return Accuracy, Recall, Precision, F1 Score for given classifier input\n",
    "def acc_metrics(labels, predictions):\n",
    "    \"\"\"\n",
    "    Function that returns a print statement of the following metrics: Accuracy, Recall, Precision, F1 Score.\n",
    "    \n",
    "    Arguments:\n",
    "    labels = data labels <list>\n",
    "    predictions = classifier predictions <list>\n",
    "    \"\"\"\n",
    "    acc_score = metrics.accuracy_score(labels, predictions)\n",
    "    recall_score = metrics.recall_score(labels, predictions)\n",
    "    precision_score = metrics.precision_score(labels, predictions)\n",
    "    f1_score = metrics.f1_score(labels, predictions)\n",
    "    #roc_curve = metrics.roc_auc_score(labels, predictions)\n",
    "    \n",
    "    print('%s  %f\\n%s    %f\\n%s %f\\n%s  %f' % \n",
    "          ('Accuracy: ', acc_score, 'Recall: ', recall_score, 'Precision: ', precision_score, 'F1 score: ', f1_score))"
   ]
  },
  {
   "cell_type": "code",
   "execution_count": 30,
   "id": "e1c4dc58",
   "metadata": {},
   "outputs": [],
   "source": [
    "## Note: Based on the confusion model designed by Krish Naik[12]\n",
    "## https://github.com/krishnaik06/Fake-News-Classifier/blob/master/FakeNewsCount_vectorizer.ipynb\n",
    "\n",
    "# Function to return confusion matrix visualization\n",
    "def plot_confusion_matrix(metrics, classes, title = 'Confusion matrix for classifer', cmap = plt.cm.YlOrRd):\n",
    "    \"\"\"    \n",
    "    Function that plots and prints a confusion matrix for the specified classifier.\n",
    "    \n",
    "    Based on the plot_confusion_matrix() function as defined by Khrish Naik and available at:\n",
    "    https://github.com/krishnaik06/Fake-News-Classifier/blob/master/FakeNewsCount_vectorizer.ipynb\n",
    "    \n",
    "    Arguments:\n",
    "    metrics = model metrics as returned from sklearn metrics\n",
    "    classes = classification classes <type: list>\n",
    "    title = title to be displayed (default: 'Confusion matrix for classifer') <type: String>\n",
    "    cmap = Colour map to be used based on plt cmaps. (default: 'plt.cm.YlOrRd') <type: plt.cm.'list'>\n",
    "    \n",
    "    Outputs:\n",
    "    Plot of confusion matrix\n",
    "    \n",
    "    \"\"\"\n",
    "    # Open image of matrix\n",
    "    plt.imshow(metrics, interpolation = 'nearest', cmap = cmap)\n",
    "    # Setting colourbar\n",
    "    plt.colorbar()\n",
    "    # Set title\n",
    "    plt.title(title)\n",
    "    # Set ticks\n",
    "    tick_marks = np.arange(len(classes))\n",
    "    plt.xticks(tick_marks, classes, rotation=45)\n",
    "    plt.yticks(tick_marks, classes)\n",
    "\n",
    "    # Threshold used for determining colour of count label\n",
    "    threshold = metrics.max() / 2.\n",
    "    # Create count labels\n",
    "    for i, j in itertools.product(range(metrics.shape[0]), range(metrics.shape[1])):\n",
    "        plt.text(j, i, metrics[i, j], horizontalalignment = \"center\",\n",
    "                 color = \"black\" if metrics[i, j] < threshold else \"white\")\n",
    "    \n",
    "    \n",
    "    # Plot confusion matrix and labels\n",
    "    plt.tight_layout()\n",
    "    plt.ylabel('Ground Truth', labelpad=12, fontsize=12, fontweight=300)\n",
    "    plt.xlabel('Predictions', labelpad=12, fontsize=12, fontweight=300)"
   ]
  },
  {
   "cell_type": "markdown",
   "id": "3526bbb1-a0b8-4ad4-a614-5a825f17553f",
   "metadata": {},
   "source": [
    "### 7. Classification approach"
   ]
  },
  {
   "cell_type": "markdown",
   "id": "8a580b36",
   "metadata": {},
   "source": [
    "As stated earlier, the classification approach used will be based on the body of the articles, the 'text' column. I was originally considering a classifier which uses the 'subject' and 'title' as well but have decided to use solely the body of the text. I will not be using the 'subject' due to the fact that the subjects appear to vary greatly in classification variety between the fake and real news datasets. The difference in diversity could lead to the classifier simply learning to classify by different subjects. Which this could have some practicality, it isn't the purpose to the classifier as I ideally want it to be able to classify accurately regardless of the source, topic etc.\n",
    "\n",
    "I have chosen to focus on the body over the title as this is where the vast majority of the text lies and is, therefore, the main source the classifier can draw upon for accuracy and would likely be aided little by including the extra info from the title. \n",
    "\n",
    "Another interesting experiment would be to build a classifier which can classify simply by the title. This would have a different use than this classifier which is designed more as an absolute answer than a pre-reading tool to deter articles from being read. If trained on the 'title' column though, this classifier should theoretically be able to predict in the same way on it."
   ]
  },
  {
   "cell_type": "markdown",
   "id": "76c78ee9",
   "metadata": {},
   "source": [
    "In terms of the classification itself, as stated initially, I will be judging the classifiers both by accuracy and precision, as identifying class 1 (fake news) successfully is more important than accidentally missing on real news from time to time, although recall and F1 scores won't be entirely ignored as overall accuracy is needed for real world use. As the two classes are quite equal in weight (about a 48-52 split), during initial training of the classifier I will leave the classes unweighted. However, if it is having issues identifying fake news successfully, I will look at adding weights to draw focus to class 1."
   ]
  },
  {
   "cell_type": "markdown",
   "id": "0f773e6a",
   "metadata": {},
   "source": [
    "In terms of which classifier will be used, in line with the research papers stated above in the 'base performance' section, I will be testing a variety of classifiers on the data set. I will begin by testing a variety of classifier's models on the data and compare the results. \n",
    "\n",
    "I have chosen to use two Naive Bayes probability based classifiers:\n",
    "\n",
    "> Bernoulli Naive Bayes - BernoulliNB, and\n",
    "<br>Multinomial Naive Bayes - MultinomialNB\n",
    "\n",
    "Two linear model based classifiers:\n",
    "> Passive Aggressive Classifier - PassiveAggressiveClassifier, and\n",
    "<br>Logistic Regression Classifier -LogisticRegression,\n",
    "\n",
    "And two ensemble based classifiers:\n",
    "> Random Forest Classifier - RandomForestClassifier, and\n",
    "<br>AdaBoost Classifier - AdaBoostClassifier\n",
    "\n",
    "I will run these classifiers on both the count vectorized and tfidf data to see if we can beat our benchmarks. If this is not obtainable, looking at hyperparameter tuning or building a deep neural network may be other alternatively to get a more accurate model."
   ]
  },
  {
   "cell_type": "markdown",
   "id": "d281618e",
   "metadata": {},
   "source": [
    "### Splitting data "
   ]
  },
  {
   "cell_type": "markdown",
   "id": "23a4eced",
   "metadata": {},
   "source": [
    "The first step in the process will be splitting the data. As there is a reasonably large amount of training samples, I have used a 80:20 split. This is to give the majority of samples to train on while still having a significant amount for testing. A random state has been used for reproducibility. "
   ]
  },
  {
   "cell_type": "code",
   "execution_count": 31,
   "id": "2e83c49a",
   "metadata": {},
   "outputs": [
    {
     "name": "stdout",
     "output_type": "stream",
     "text": [
      "Number of samples in training set : 35918\n",
      "Number of samples in test set : 8980\n"
     ]
    }
   ],
   "source": [
    "# Split data into test and training sets\n",
    "x_train_vec, x_test_vec, y_train_vec, y_test_vec = train_test_split(vec_corpus, y, test_size = 0.2, random_state = 1)\n",
    "print('Number of samples in training set :', len(x_train_vec))\n",
    "print('Number of samples in test set :', len(x_test_vec))"
   ]
  },
  {
   "cell_type": "code",
   "execution_count": 32,
   "id": "6bbb16ce-088e-4fd5-bed6-2f9b1f9d120d",
   "metadata": {},
   "outputs": [
    {
     "name": "stdout",
     "output_type": "stream",
     "text": [
      "(35918, 1000)\n"
     ]
    },
    {
     "data": {
      "text/plain": [
       "array([[0, 0, 0, ..., 0, 0, 0],\n",
       "       [0, 0, 0, ..., 1, 0, 0],\n",
       "       [0, 0, 0, ..., 0, 0, 0],\n",
       "       ...,\n",
       "       [0, 0, 0, ..., 0, 0, 0],\n",
       "       [0, 0, 0, ..., 0, 0, 0],\n",
       "       [0, 0, 0, ..., 1, 0, 1]], dtype=int64)"
      ]
     },
     "execution_count": 32,
     "metadata": {},
     "output_type": "execute_result"
    }
   ],
   "source": [
    "# Check shape of x_train\n",
    "print(x_train_vec.shape)\n",
    "x_train_vec"
   ]
  },
  {
   "cell_type": "code",
   "execution_count": 33,
   "id": "60454f4f",
   "metadata": {},
   "outputs": [
    {
     "name": "stdout",
     "output_type": "stream",
     "text": [
      "(35918,)\n"
     ]
    },
    {
     "data": {
      "text/plain": [
       "array([0, 1, 1, ..., 0, 0, 1], dtype=int64)"
      ]
     },
     "execution_count": 33,
     "metadata": {},
     "output_type": "execute_result"
    }
   ],
   "source": [
    "# Check shape of y_train\n",
    "print(y_train_vec.shape)\n",
    "y_train_vec"
   ]
  },
  {
   "cell_type": "code",
   "execution_count": 34,
   "id": "4dffc8ae",
   "metadata": {},
   "outputs": [],
   "source": [
    "# Convert y_train shape to (n, )\n",
    "y_train_vec = np.ravel(y_train_vec, order='C')"
   ]
  },
  {
   "cell_type": "code",
   "execution_count": 35,
   "id": "7144911f",
   "metadata": {},
   "outputs": [
    {
     "name": "stdout",
     "output_type": "stream",
     "text": [
      "(35918,)\n"
     ]
    },
    {
     "data": {
      "text/plain": [
       "array([0, 1, 1, ..., 0, 0, 1], dtype=int64)"
      ]
     },
     "execution_count": 35,
     "metadata": {},
     "output_type": "execute_result"
    }
   ],
   "source": [
    "# Recheck shape of y_train\n",
    "print(y_train_vec.shape)\n",
    "y_train_vec"
   ]
  },
  {
   "cell_type": "code",
   "execution_count": 36,
   "id": "187f0af5",
   "metadata": {},
   "outputs": [
    {
     "name": "stdout",
     "output_type": "stream",
     "text": [
      "Number of samples in training set : 35918\n",
      "Number of samples in test set : 8980\n"
     ]
    }
   ],
   "source": [
    "# Split data into test and training sets\n",
    "x_train_tfidf, x_test_tfidf, y_train_tfidf, y_test_tfidf = train_test_split(tfidf_corpus, y, test_size = 0.2, random_state = 1)\n",
    "print('Number of samples in training set :', len(x_train_tfidf))\n",
    "print('Number of samples in test set :', len(x_test_tfidf))"
   ]
  },
  {
   "cell_type": "code",
   "execution_count": 37,
   "id": "5600a6cd",
   "metadata": {},
   "outputs": [],
   "source": [
    "# Convert y_train shape to (n, )\n",
    "y_train_tfidf = np.ravel(y_train_tfidf, order='C')"
   ]
  },
  {
   "cell_type": "markdown",
   "id": "cee95144",
   "metadata": {},
   "source": [
    "### Create and train models"
   ]
  },
  {
   "cell_type": "markdown",
   "id": "75791269",
   "metadata": {},
   "source": [
    "Now the data has been split, it is time to begin training and testing our models."
   ]
  },
  {
   "cell_type": "markdown",
   "id": "b3ee90aa",
   "metadata": {},
   "source": [
    "#### <i>Naive Bayes based models</i>:"
   ]
  },
  {
   "cell_type": "markdown",
   "id": "ec08a6ff",
   "metadata": {},
   "source": [
    "I will begin by running our Naive Bayes probability based classifiers: Bernoulli Naive Bayes, and Multinomial Naive Bayes."
   ]
  },
  {
   "cell_type": "markdown",
   "id": "8e0b8fc3",
   "metadata": {},
   "source": [
    "#### Bernoulli Naive Bayes Model"
   ]
  },
  {
   "cell_type": "code",
   "execution_count": 38,
   "id": "97bfba8b",
   "metadata": {},
   "outputs": [
    {
     "name": "stdout",
     "output_type": "stream",
     "text": [
      "Accuracy on test set for count vec. :  0.9710467706013363\n",
      "Accuracy on test set for tfidf vec. :  0.9710467706013363\n"
     ]
    }
   ],
   "source": [
    "# Create and train BernoulliNB model\n",
    "\n",
    "bnb = BernoulliNB().fit(x_train_vec, y_train_vec)\n",
    "pred_vec = bnb.predict(x_test_vec)\n",
    "print('Accuracy on test set for count vec. : ', bnb.score(x_test_vec, y_test_vec))\n",
    "bnb = BernoulliNB().fit(x_train_tfidf, y_train_tfidf)\n",
    "pred_tfidf = bnb.predict(x_test_tfidf)\n",
    "print('Accuracy on test set for tfidf vec. : ', bnb.score(x_test_tfidf, y_test_tfidf))"
   ]
  },
  {
   "cell_type": "code",
   "execution_count": 39,
   "id": "59916abe",
   "metadata": {
    "scrolled": false
   },
   "outputs": [
    {
     "name": "stdout",
     "output_type": "stream",
     "text": [
      "\u001b[1mAccuracy metrics of BernoulliNB on the vectorized data\u001b[0m\n",
      "Accuracy:   0.971047\n",
      "Recall:     0.959621\n",
      "Precision:  0.985316\n",
      "F1 score:   0.972299\n"
     ]
    }
   ],
   "source": [
    "# Display accuracy metrics of model on the vectorized data\n",
    "print(\"\\033[1mAccuracy metrics of BernoulliNB on the vectorized data\\033[0m\")\n",
    "acc_metrics(y_test_vec, pred_vec)"
   ]
  },
  {
   "cell_type": "code",
   "execution_count": 40,
   "id": "9d1762a1",
   "metadata": {
    "scrolled": false
   },
   "outputs": [
    {
     "data": {
      "image/png": "[encoded data removed]",
      "text/plain": [
       "<Figure size 432x288 with 2 Axes>"
      ]
     },
     "metadata": {
      "needs_background": "light"
     },
     "output_type": "display_data"
    }
   ],
   "source": [
    "# Display confusion matrix of model on the vectorized data\n",
    "cm = metrics.confusion_matrix(y_test_vec, pred_vec)\n",
    "plot_confusion_matrix(cm, classes=['FAKE', 'REAL'])"
   ]
  },
  {
   "cell_type": "code",
   "execution_count": 41,
   "id": "ab856d6f",
   "metadata": {
    "scrolled": true
   },
   "outputs": [
    {
     "name": "stdout",
     "output_type": "stream",
     "text": [
      "\u001b[1mAccuracy metrics of BernoulliNB on the tfidf data\u001b[0m\n",
      "Accuracy:   0.971047\n",
      "Recall:     0.959621\n",
      "Precision:  0.985316\n",
      "F1 score:   0.972299\n"
     ]
    }
   ],
   "source": [
    "# Display accuracy metrics of model on the tfidf data\n",
    "print(\"\\033[1mAccuracy metrics of BernoulliNB on the tfidf data\\033[0m\")\n",
    "acc_metrics(y_test_tfidf, pred_tfidf)"
   ]
  },
  {
   "cell_type": "code",
   "execution_count": 42,
   "id": "2cbe0e10",
   "metadata": {},
   "outputs": [
    {
     "data": {
      "image/png": "[encoded data removed]",
      "text/plain": [
       "<Figure size 432x288 with 2 Axes>"
      ]
     },
     "metadata": {
      "needs_background": "light"
     },
     "output_type": "display_data"
    }
   ],
   "source": [
    "# Display confusion matrix of model on the tfidf data\n",
    "cm = metrics.confusion_matrix(y_test_tfidf, pred_tfidf)\n",
    "plot_confusion_matrix(cm, classes=['FAKE', 'REAL'])"
   ]
  },
  {
   "cell_type": "markdown",
   "id": "9d09642e",
   "metadata": {},
   "source": [
    "For a first run without any hyperparameter tuning, BernoulliNB has done a very good job. It has quite oddly performed identically on both sets of vectorized and tfidf data achieving an <b>accuracy of 97%, recall of 96% and precision of 98%</b>.\n",
    "\n",
    "This has already easily <b>beaten both or simple 'dumb baseline'</b> of 55% <b>as well as the higher baseline</b> (accuracy: 93.15%, precision: 92.65%, recall: 95.71%) of research done in the field on more advanced news predictors."
   ]
  },
  {
   "cell_type": "markdown",
   "id": "ac96c83c",
   "metadata": {},
   "source": [
    "While we have already beaten our baselines, it is doubtful this is the best result we can achieve so we will continue testing other models to compare results. Next we will continue with the probability based classifiers to the Multinomial NB classifier to see if we can achieve better results."
   ]
  },
  {
   "cell_type": "markdown",
   "id": "71edc905",
   "metadata": {},
   "source": [
    "#### Multinomial Naive Bayes Model"
   ]
  },
  {
   "cell_type": "code",
   "execution_count": 43,
   "id": "e1962035",
   "metadata": {},
   "outputs": [
    {
     "name": "stdout",
     "output_type": "stream",
     "text": [
      "Accuracy on test set for count vec. :  0.9530066815144767\n",
      "Accuracy on test set for tfidf vec. :  0.9417594654788418\n"
     ]
    }
   ],
   "source": [
    "# Create and train MultinomialNB model\n",
    "\n",
    "mnb = MultinomialNB().fit(x_train_vec, y_train_vec)\n",
    "pred_vec = mnb.predict(x_test_vec)\n",
    "print('Accuracy on test set for count vec. : ', mnb.score(x_test_vec, y_test_vec))\n",
    "mnb = MultinomialNB().fit(x_test_tfidf, y_test_tfidf)\n",
    "pred_tfidf = mnb.predict(x_test_tfidf)\n",
    "print('Accuracy on test set for tfidf vec. : ', mnb.score(x_test_tfidf, y_test_tfidf))"
   ]
  },
  {
   "cell_type": "code",
   "execution_count": 44,
   "id": "2ad475d8",
   "metadata": {
    "scrolled": true
   },
   "outputs": [
    {
     "name": "stdout",
     "output_type": "stream",
     "text": [
      "\u001b[1mAccuracy metrics of MultinomialNB on the vectorized data\u001b[0m\n",
      "Accuracy:   0.953007\n",
      "Recall:     0.937960\n",
      "Precision:  0.972313\n",
      "F1 score:   0.954828\n"
     ]
    }
   ],
   "source": [
    "# Display accuracy metrics of model on the vectorized data\n",
    "print(\"\\033[1mAccuracy metrics of MultinomialNB on the vectorized data\\033[0m\")\n",
    "acc_metrics(y_test_vec, pred_vec)"
   ]
  },
  {
   "cell_type": "code",
   "execution_count": 45,
   "id": "6fc1ab4c",
   "metadata": {
    "scrolled": false
   },
   "outputs": [
    {
     "data": {
      "image/png": "[encoded data removed]",
      "text/plain": [
       "<Figure size 432x288 with 2 Axes>"
      ]
     },
     "metadata": {
      "needs_background": "light"
     },
     "output_type": "display_data"
    }
   ],
   "source": [
    "# Display confusion matrix of model on the vectorized data\n",
    "cm = metrics.confusion_matrix(y_test_vec, pred_vec)\n",
    "plot_confusion_matrix(cm, classes=['FAKE', 'REAL'])"
   ]
  },
  {
   "cell_type": "code",
   "execution_count": 46,
   "id": "ac3a4fdb",
   "metadata": {
    "scrolled": false
   },
   "outputs": [
    {
     "name": "stdout",
     "output_type": "stream",
     "text": [
      "\u001b[1mAccuracy metrics of MultinomialNB on the tfidf data\u001b[0m\n",
      "Accuracy:   0.941759\n",
      "Recall:     0.934175\n",
      "Precision:  0.954858\n",
      "F1 score:   0.944403\n"
     ]
    }
   ],
   "source": [
    "# Display accuracy metrics of model on the tfidf data\n",
    "print(\"\\033[1mAccuracy metrics of MultinomialNB on the tfidf data\\033[0m\")\n",
    "acc_metrics(y_test_tfidf, pred_tfidf)"
   ]
  },
  {
   "cell_type": "code",
   "execution_count": 47,
   "id": "f32183bd",
   "metadata": {
    "scrolled": false
   },
   "outputs": [
    {
     "data": {
      "image/png": "[encoded data removed]",
      "text/plain": [
       "<Figure size 432x288 with 2 Axes>"
      ]
     },
     "metadata": {
      "needs_background": "light"
     },
     "output_type": "display_data"
    }
   ],
   "source": [
    "# Display confusion matrix of model on the tfidf data\n",
    "cm = metrics.confusion_matrix(y_test_tfidf, pred_tfidf)\n",
    "plot_confusion_matrix(cm, classes=['FAKE', 'REAL'])"
   ]
  },
  {
   "cell_type": "markdown",
   "id": "3ba6f347",
   "metadata": {},
   "source": [
    "We can see the MultinomialNB classifier has also performed better on vectorized data than tfidf data. It also beat both of our baselines in all metrics however performed slightly worse than the BernoulliNB at each metric. While it may be possible to achieve higher results with model tuning, I will be taking the model with the highest base results at this stage, so will move forward with BernoulliNB for now."
   ]
  },
  {
   "cell_type": "markdown",
   "id": "022a9260",
   "metadata": {},
   "source": [
    "#### <i>Linear based models</i>:"
   ]
  },
  {
   "cell_type": "markdown",
   "id": "eabec5a7",
   "metadata": {},
   "source": [
    "We will now move on to testing our linear model based classifiers: PassiveAggressiveClassifier, and LogisticRegression."
   ]
  },
  {
   "cell_type": "markdown",
   "id": "b828ccec",
   "metadata": {},
   "source": [
    "#### Passive Aggressive Classifier Model"
   ]
  },
  {
   "cell_type": "code",
   "execution_count": 48,
   "id": "03fed2cc",
   "metadata": {},
   "outputs": [
    {
     "name": "stdout",
     "output_type": "stream",
     "text": [
      "Accuracy on test set for count vec. :  0.9935412026726058\n",
      "Accuracy on test set for tfidf vec. :  0.9933184855233853\n"
     ]
    }
   ],
   "source": [
    "# Create and train PassiveAggressiveClassifier model\n",
    "\n",
    "PA_clf = PassiveAggressiveClassifier().fit(x_train_vec, y_train_vec)\n",
    "pred_vec = PA_clf.predict(x_test_vec)\n",
    "print('Accuracy on test set for count vec. : ', PA_clf.score(x_test_vec, y_test_vec))\n",
    "PA_clf = PassiveAggressiveClassifier().fit(x_train_tfidf, y_train_tfidf)\n",
    "pred_tfidf = PA_clf.predict(x_test_tfidf)\n",
    "print('Accuracy on test set for tfidf vec. : ', PA_clf.score(x_test_tfidf, y_test_tfidf))"
   ]
  },
  {
   "cell_type": "code",
   "execution_count": 49,
   "id": "71c7d856",
   "metadata": {
    "scrolled": true
   },
   "outputs": [
    {
     "name": "stdout",
     "output_type": "stream",
     "text": [
      "\u001b[1mAccuracy metrics of PassiveAggressiveClassifier on the vectorized data\u001b[0m\n",
      "Accuracy:   0.993541\n",
      "Recall:     0.993691\n",
      "Precision:  0.994109\n",
      "F1 score:   0.993900\n"
     ]
    }
   ],
   "source": [
    "# Display accuracy metrics of model on the vectorized data\n",
    "print(\"\\033[1mAccuracy metrics of PassiveAggressiveClassifier on the vectorized data\\033[0m\")\n",
    "acc_metrics(y_test_vec, pred_vec)"
   ]
  },
  {
   "cell_type": "code",
   "execution_count": 50,
   "id": "c0a6d1cb",
   "metadata": {
    "scrolled": true
   },
   "outputs": [
    {
     "data": {
      "image/png": "[encoded data removed]",
      "text/plain": [
       "<Figure size 432x288 with 2 Axes>"
      ]
     },
     "metadata": {
      "needs_background": "light"
     },
     "output_type": "display_data"
    }
   ],
   "source": [
    "# Display confusion matrix of model on the vectorized data\n",
    "cm = metrics.confusion_matrix(y_test_vec, pred_vec)\n",
    "plot_confusion_matrix(cm, classes=['FAKE', 'REAL'])"
   ]
  },
  {
   "cell_type": "code",
   "execution_count": 51,
   "id": "4e2e21ec",
   "metadata": {
    "scrolled": true
   },
   "outputs": [
    {
     "name": "stdout",
     "output_type": "stream",
     "text": [
      "\u001b[1mAccuracy metrics of PassiveAggressiveClassifier on the tfidf data\u001b[0m\n",
      "Accuracy:   0.993318\n",
      "Recall:     0.994322\n",
      "Precision:  0.993069\n",
      "F1 score:   0.993695\n"
     ]
    }
   ],
   "source": [
    "# Display accuracy metrics of model on the tfidf data\n",
    "print(\"\\033[1mAccuracy metrics of PassiveAggressiveClassifier on the tfidf data\\033[0m\")\n",
    "acc_metrics(y_test_tfidf, pred_tfidf)"
   ]
  },
  {
   "cell_type": "code",
   "execution_count": 52,
   "id": "324cbcba",
   "metadata": {
    "scrolled": true
   },
   "outputs": [
    {
     "data": {
      "image/png": "[encoded data removed]",
      "text/plain": [
       "<Figure size 432x288 with 2 Axes>"
      ]
     },
     "metadata": {
      "needs_background": "light"
     },
     "output_type": "display_data"
    }
   ],
   "source": [
    "# Display confusion matrix of model on the tfidf data\n",
    "cm = metrics.confusion_matrix(y_test_tfidf, pred_tfidf)\n",
    "plot_confusion_matrix(cm, classes=['FAKE', 'REAL'])"
   ]
  },
  {
   "cell_type": "markdown",
   "id": "efedb9e5",
   "metadata": {},
   "source": [
    "The PassiveAggressiveClassifier model has absolutely smashed both baselines in all metrics achieving accuracy, recall, and precision all over 99% across the board. It performed slightly better on the vectorized data, although the difference is negligible at that stage. \n",
    "\n",
    "It's also done a noteworthy job at predicting fake news successful with a precision score of 99.4% correctly identifying 4266 fake stories while only misidentifying 26 cases. This is quite remarkable and particularly important to this study as identifying fake news successfully is the main goal.\n",
    "\n",
    "I doubt we will be able to significantly beat these results but will none the less try the remaining models to see. "
   ]
  },
  {
   "cell_type": "markdown",
   "id": "27bbe5c7",
   "metadata": {},
   "source": [
    "#### Logistic Regression Classifier Model"
   ]
  },
  {
   "cell_type": "code",
   "execution_count": 53,
   "id": "acff165b",
   "metadata": {},
   "outputs": [
    {
     "name": "stdout",
     "output_type": "stream",
     "text": [
      "Accuracy on test set for count vec. :  0.99543429844098\n",
      "Accuracy on test set for tfidf vec. :  0.9889755011135858\n"
     ]
    }
   ],
   "source": [
    "# Create and train LogisticRegression model\n",
    "\n",
    "lr_clf = LogisticRegression(random_state = 0, solver = 'liblinear').fit(x_train_vec, y_train_vec)\n",
    "pred_vec = lr_clf.predict(x_test_vec)\n",
    "print('Accuracy on test set for count vec. : ', lr_clf.score(x_test_vec, y_test_vec))\n",
    "lr_clf = LogisticRegression(random_state = 0, solver = 'liblinear').fit(x_train_tfidf, y_train_tfidf)\n",
    "pred_tfidf = lr_clf.predict(x_test_tfidf)\n",
    "print('Accuracy on test set for tfidf vec. : ', lr_clf.score(x_test_tfidf, y_test_tfidf))"
   ]
  },
  {
   "cell_type": "code",
   "execution_count": 54,
   "id": "fc2ed641",
   "metadata": {
    "scrolled": false
   },
   "outputs": [
    {
     "name": "stdout",
     "output_type": "stream",
     "text": [
      "\u001b[1mAccuracy metrics of LogisticRegression on the vectorized data\u001b[0m\n",
      "Accuracy:   0.995434\n",
      "Recall:     0.995584\n",
      "Precision:  0.995793\n",
      "F1 score:   0.995688\n"
     ]
    }
   ],
   "source": [
    "# Display accuracy metrics of model on the vectorized data\n",
    "print(\"\\033[1mAccuracy metrics of LogisticRegression on the vectorized data\\033[0m\")\n",
    "acc_metrics(y_test_vec, pred_vec)"
   ]
  },
  {
   "cell_type": "code",
   "execution_count": 55,
   "id": "6e9b0213",
   "metadata": {
    "scrolled": true
   },
   "outputs": [
    {
     "data": {
      "image/png": "[encoded data removed]",
      "text/plain": [
       "<Figure size 432x288 with 2 Axes>"
      ]
     },
     "metadata": {
      "needs_background": "light"
     },
     "output_type": "display_data"
    }
   ],
   "source": [
    "# Display confusion matrix of model on the vectorized data\n",
    "cm = metrics.confusion_matrix(y_test_vec, pred_vec)\n",
    "plot_confusion_matrix(cm, classes=['FAKE', 'REAL'])"
   ]
  },
  {
   "cell_type": "code",
   "execution_count": 56,
   "id": "b4dfb6b0",
   "metadata": {
    "scrolled": false
   },
   "outputs": [
    {
     "name": "stdout",
     "output_type": "stream",
     "text": [
      "\u001b[1mAccuracy metrics of LogisticRegression on the tfidf data\u001b[0m\n",
      "Accuracy:   0.988976\n",
      "Recall:     0.985068\n",
      "Precision:  0.994058\n",
      "F1 score:   0.989543\n"
     ]
    }
   ],
   "source": [
    "# Display accuracy metrics of model on the tfidf data\n",
    "print(\"\\033[1mAccuracy metrics of LogisticRegression on the tfidf data\\033[0m\")\n",
    "acc_metrics(y_test_tfidf, pred_tfidf)"
   ]
  },
  {
   "cell_type": "code",
   "execution_count": 57,
   "id": "c64fc96b",
   "metadata": {
    "scrolled": true
   },
   "outputs": [
    {
     "data": {
      "image/png": "[encoded data removed]",
      "text/plain": [
       "<Figure size 432x288 with 2 Axes>"
      ]
     },
     "metadata": {
      "needs_background": "light"
     },
     "output_type": "display_data"
    }
   ],
   "source": [
    "# Display confusion matrix of model on the tfidf data\n",
    "cm = metrics.confusion_matrix(y_test_tfidf, pred_tfidf)\n",
    "plot_confusion_matrix(cm, classes=['FAKE', 'REAL'])"
   ]
  },
  {
   "cell_type": "markdown",
   "id": "78bcdf41",
   "metadata": {},
   "source": [
    "Remarkably, the PassiveAggressiveClassifier's results have immediately been beaten (slightly) by that of the LogisticRegression model. When tested on the vectorized test data it was able to average around <b>99.5% across the board in all metrics</b>. It has also achieved a slightly better result at classifying fake news while done considerably better at identifying real news stories.\n",
    "\n",
    "It should be noted, its performance on tfidf data was worse than that of the PassiveAggressiveClassifier model. Performance on both sets is not required however, so I will move forward with the <b>LogisticRegression model as the new default</b>."
   ]
  },
  {
   "cell_type": "markdown",
   "id": "d2b0c1b3",
   "metadata": {},
   "source": [
    "#### <i>Ensemble based models</i>:"
   ]
  },
  {
   "cell_type": "markdown",
   "id": "6b5b1f78",
   "metadata": {},
   "source": [
    "Time now to test a few ensemble algorithms to see if they can achieve better than the already extremely high accuracy achieved on the test set. We will be trying the: Random Forest Classifier, and AdaBoost Classifier."
   ]
  },
  {
   "cell_type": "markdown",
   "id": "b21eaad5",
   "metadata": {},
   "source": [
    "#### Random Forest Classifier Model"
   ]
  },
  {
   "cell_type": "code",
   "execution_count": 58,
   "id": "5d5ecd8b",
   "metadata": {},
   "outputs": [
    {
     "name": "stdout",
     "output_type": "stream",
     "text": [
      "Accuracy on test set for count vec. :  0.9817371937639198\n",
      "Accuracy on test set for tfidf vec. :  0.9825167037861915\n"
     ]
    }
   ],
   "source": [
    "# Create and train RandomForestClassifier model\n",
    "\n",
    "rf_clf = RandomForestClassifier(max_depth=4, random_state=0).fit(x_train_vec, y_train_vec)\n",
    "pred_vec = rf_clf.predict(x_test_vec)\n",
    "print('Accuracy on test set for count vec. : ', rf_clf.score(x_test_vec, y_test_vec))\n",
    "rf_clf = RandomForestClassifier(max_depth=4, random_state=0).fit(x_train_tfidf, y_train_tfidf)\n",
    "pred_tfidf = rf_clf.predict(x_test_tfidf)\n",
    "print('Accuracy on test set for tfidf vec. : ', rf_clf.score(x_test_tfidf, y_test_tfidf))"
   ]
  },
  {
   "cell_type": "code",
   "execution_count": 59,
   "id": "0d2028eb",
   "metadata": {
    "scrolled": true
   },
   "outputs": [
    {
     "name": "stdout",
     "output_type": "stream",
     "text": [
      "\u001b[1mAccuracy metrics of RandomForestClassifier on the vectorized data\u001b[0m\n",
      "Accuracy:   0.981737\n",
      "Recall:     0.966772\n",
      "Precision:  0.998697\n",
      "F1 score:   0.982475\n"
     ]
    }
   ],
   "source": [
    "# Display accuracy metrics of model on the vectorized data\n",
    "print(\"\\033[1mAccuracy metrics of RandomForestClassifier on the vectorized data\\033[0m\")\n",
    "acc_metrics(y_test_vec, pred_vec)"
   ]
  },
  {
   "cell_type": "code",
   "execution_count": 60,
   "id": "13fbe6b4",
   "metadata": {
    "scrolled": false
   },
   "outputs": [
    {
     "data": {
      "image/png": "[encoded data removed]",
      "text/plain": [
       "<Figure size 432x288 with 2 Axes>"
      ]
     },
     "metadata": {
      "needs_background": "light"
     },
     "output_type": "display_data"
    }
   ],
   "source": [
    "# Display confusion matrix of model on the vectorized data\n",
    "cm = metrics.confusion_matrix(y_test_vec, pred_vec)\n",
    "plot_confusion_matrix(cm, classes=['FAKE', 'REAL'])"
   ]
  },
  {
   "cell_type": "code",
   "execution_count": 61,
   "id": "8ca37e66",
   "metadata": {
    "scrolled": false
   },
   "outputs": [
    {
     "name": "stdout",
     "output_type": "stream",
     "text": [
      "\u001b[1mAccuracy metrics of RandomForestClassifier on the tfidf data\u001b[0m\n",
      "Accuracy:   0.982517\n",
      "Recall:     0.969506\n",
      "Precision:  0.997404\n",
      "F1 score:   0.983257\n"
     ]
    }
   ],
   "source": [
    "# Display accuracy metrics of model on the tfidf data\n",
    "print(\"\\033[1mAccuracy metrics of RandomForestClassifier on the tfidf data\\033[0m\")\n",
    "acc_metrics(y_test_tfidf, pred_tfidf)"
   ]
  },
  {
   "cell_type": "code",
   "execution_count": 62,
   "id": "680d1296",
   "metadata": {
    "scrolled": false
   },
   "outputs": [
    {
     "data": {
      "image/png": "[encoded data removed]",
      "text/plain": [
       "<Figure size 432x288 with 2 Axes>"
      ]
     },
     "metadata": {
      "needs_background": "light"
     },
     "output_type": "display_data"
    }
   ],
   "source": [
    "# Display confusion matrix of model on the tfidf data\n",
    "cm = metrics.confusion_matrix(y_test_tfidf, pred_tfidf)\n",
    "plot_confusion_matrix(cm, classes=['FAKE', 'REAL'])"
   ]
  },
  {
   "cell_type": "markdown",
   "id": "99a053a1",
   "metadata": {},
   "source": [
    "The RandomForestClassifier based model has done extremely well at predicting fake news correctly with a precision score of 99.8% correctly identifying 4284 cases to just 8 misidentified. \n",
    "\n",
    "It was however less successful at classifying real news, leading to an overall accuracy of 98.5%. \n",
    "\n",
    "I will consider this performance worse as a whole than that of the LogisticRegression model due to the 131 misclassifications it made on real news and stick with the LogisticRegression model for now as, while identifying fake news is the main goal, it's also important to identify real news correctly too to avoid discounting too many real news stories. If however finding fake news is the only goal, this is so far the best classifier for it."
   ]
  },
  {
   "cell_type": "markdown",
   "id": "ebdcc323",
   "metadata": {},
   "source": [
    "#### AdaBoost Classifier Model"
   ]
  },
  {
   "cell_type": "code",
   "execution_count": 63,
   "id": "e14d475d",
   "metadata": {},
   "outputs": [
    {
     "name": "stdout",
     "output_type": "stream",
     "text": [
      "Accuracy on test set for count vec. :  0.9966592427616926\n",
      "Accuracy on test set for tfidf vec. :  0.9963251670378619\n"
     ]
    }
   ],
   "source": [
    "# Create and train AdaBoostClassifier model\n",
    "\n",
    "Ada = AdaBoostClassifier().fit(x_train_vec, y_train_vec)\n",
    "pred_vec = Ada.predict(x_test_vec)\n",
    "print('Accuracy on test set for count vec. : ', Ada.score(x_test_vec, y_test_vec))\n",
    "Ada = AdaBoostClassifier().fit(x_train_tfidf, y_train_tfidf)\n",
    "pred_tfidf = Ada.predict(x_test_tfidf)\n",
    "print('Accuracy on test set for tfidf vec. : ', Ada.score(x_test_tfidf, y_test_tfidf))"
   ]
  },
  {
   "cell_type": "code",
   "execution_count": 64,
   "id": "e868e813",
   "metadata": {
    "scrolled": true
   },
   "outputs": [
    {
     "name": "stdout",
     "output_type": "stream",
     "text": [
      "\u001b[1mAccuracy metrics of AdaBoostClassifier on the vectorized data\u001b[0m\n",
      "Accuracy:   0.996659\n",
      "Recall:     0.995794\n",
      "Precision:  0.997893\n",
      "F1 score:   0.996842\n"
     ]
    }
   ],
   "source": [
    "# Display accuracy metrics of model on the vectorized data\n",
    "print(\"\\033[1mAccuracy metrics of AdaBoostClassifier on the vectorized data\\033[0m\")\n",
    "acc_metrics(y_test_vec, pred_vec)"
   ]
  },
  {
   "cell_type": "code",
   "execution_count": 65,
   "id": "37539d16",
   "metadata": {
    "scrolled": true
   },
   "outputs": [
    {
     "data": {
      "image/png": "[encoded data removed]",
      "text/plain": [
       "<Figure size 432x288 with 2 Axes>"
      ]
     },
     "metadata": {
      "needs_background": "light"
     },
     "output_type": "display_data"
    }
   ],
   "source": [
    "# Display confusion matrix of model on the vectorized data\n",
    "cm = metrics.confusion_matrix(y_test_vec, pred_vec)\n",
    "plot_confusion_matrix(cm, classes=['FAKE', 'REAL'])"
   ]
  },
  {
   "cell_type": "code",
   "execution_count": 66,
   "id": "da9186db",
   "metadata": {
    "scrolled": false
   },
   "outputs": [
    {
     "name": "stdout",
     "output_type": "stream",
     "text": [
      "\u001b[1mAccuracy metrics of AdaBoostClassifier on the tfidf data\u001b[0m\n",
      "Accuracy:   0.996325\n",
      "Recall:     0.996004\n",
      "Precision:  0.997053\n",
      "F1 score:   0.996528\n"
     ]
    }
   ],
   "source": [
    "# Display accuracy metrics of model on the tfidf data\n",
    "print(\"\\033[1mAccuracy metrics of AdaBoostClassifier on the tfidf data\\033[0m\")\n",
    "acc_metrics(y_test_tfidf, pred_tfidf)"
   ]
  },
  {
   "cell_type": "code",
   "execution_count": 67,
   "id": "73ec8656",
   "metadata": {
    "scrolled": false
   },
   "outputs": [
    {
     "data": {
      "image/png": "[encoded data removed]",
      "text/plain": [
       "<Figure size 432x288 with 2 Axes>"
      ]
     },
     "metadata": {
      "needs_background": "light"
     },
     "output_type": "display_data"
    }
   ],
   "source": [
    "# Display confusion matrix of model on the tfidf data\n",
    "cm = metrics.confusion_matrix(y_test_tfidf, pred_tfidf)\n",
    "plot_confusion_matrix(cm, classes=['FAKE', 'REAL'])"
   ]
  },
  {
   "cell_type": "markdown",
   "id": "0b04240b",
   "metadata": {},
   "source": [
    "Finally, our AdaBoostClassifier based model has also achieved extremely high metric results on the test set. It performed particularly well of the vectorized data scoring and accuracy of 99.6%, recall of 99.6%, and precision of 99.7%, to very slightly beat the former high of 99.5% by LogisticRegression. While these numbers are very close, it's 0.2% precision score from better classification on fake news gave it only 14 misclassifications of fake news compared to 24 for LogisticRegression.\n"
   ]
  },
  {
   "cell_type": "markdown",
   "id": "f271ca86",
   "metadata": {},
   "source": [
    "#### Our best model on the test set"
   ]
  },
  {
   "cell_type": "markdown",
   "id": "68a1d0f4",
   "metadata": {},
   "source": [
    "Overall, the AdaBoostClassifier based model has achieved the best results on the test set as well as the highest precision level, resulting in it being the most accurate overall classifier. It was able to <b>easily beat both the dumb baseline</b> of guessing the most prominent class (52% accuracy) as well as <b>beating the more advanced baseline</b> (accuracy: 93.15%, precision: 92.65%, recall: 95.71%) set in comparison to a variety of published deep learning models created based on a variety of more advanced factors in predicting fake news in datasets.\n",
    "\n",
    "In this regard, the model has been a fantastic success, even without hypertuning or weighting classes to help identify fake news successfully. However, it should be noted that <b>these results are results on the test set</b>. While this data was kept separate from the training data at all times, it is important to note that is comes from the same source as the training data. \n",
    "\n",
    "With this in mind, all we can say at this point is that the model performs very well on the test data. The question remains, <b>does the model generalize well?</b>\n",
    "\n",
    "To answer this, I am going to <b>test it on an entirely new fake news dataset</b><sup>[11]</sup> which it has not been exposed to at all. If the model is truly successful (can generalize to new data), it should be able to perform in a fairly similar result when exposed to this new data."
   ]
  },
  {
   "cell_type": "markdown",
   "id": "a9091fdd",
   "metadata": {},
   "source": [
    "#### Create second dataset to test model on"
   ]
  },
  {
   "cell_type": "code",
   "execution_count": 68,
   "id": "a253333a",
   "metadata": {
    "scrolled": true
   },
   "outputs": [],
   "source": [
    "# import second dataset to see if model can generalize on \n",
    "news_test = pd.read_csv('fake_or_real_news.csv')"
   ]
  },
  {
   "cell_type": "code",
   "execution_count": 69,
   "id": "c2d982cd",
   "metadata": {},
   "outputs": [
    {
     "data": {
      "text/html": [
       "<div>\n",
       "<style scoped>\n",
       "    .dataframe tbody tr th:only-of-type {\n",
       "        vertical-align: middle;\n",
       "    }\n",
       "\n",
       "    .dataframe tbody tr th {\n",
       "        vertical-align: top;\n",
       "    }\n",
       "\n",
       "    .dataframe thead th {\n",
       "        text-align: right;\n",
       "    }\n",
       "</style>\n",
       "<table border=\"1\" class=\"dataframe\">\n",
       "  <thead>\n",
       "    <tr style=\"text-align: right;\">\n",
       "      <th></th>\n",
       "      <th>Unnamed: 0</th>\n",
       "      <th>title</th>\n",
       "      <th>text</th>\n",
       "      <th>label</th>\n",
       "    </tr>\n",
       "  </thead>\n",
       "  <tbody>\n",
       "    <tr>\n",
       "      <th>0</th>\n",
       "      <td>8476</td>\n",
       "      <td>You Can Smell Hillary’s Fear</td>\n",
       "      <td>Daniel Greenfield, a Shillman Journalism Fello...</td>\n",
       "      <td>FAKE</td>\n",
       "    </tr>\n",
       "    <tr>\n",
       "      <th>1</th>\n",
       "      <td>10294</td>\n",
       "      <td>Watch The Exact Moment Paul Ryan Committed Pol...</td>\n",
       "      <td>Google Pinterest Digg Linkedin Reddit Stumbleu...</td>\n",
       "      <td>FAKE</td>\n",
       "    </tr>\n",
       "    <tr>\n",
       "      <th>2</th>\n",
       "      <td>3608</td>\n",
       "      <td>Kerry to go to Paris in gesture of sympathy</td>\n",
       "      <td>U.S. Secretary of State John F. Kerry said Mon...</td>\n",
       "      <td>REAL</td>\n",
       "    </tr>\n",
       "    <tr>\n",
       "      <th>3</th>\n",
       "      <td>10142</td>\n",
       "      <td>Bernie supporters on Twitter erupt in anger ag...</td>\n",
       "      <td>— Kaydee King (@KaydeeKing) November 9, 2016 T...</td>\n",
       "      <td>FAKE</td>\n",
       "    </tr>\n",
       "    <tr>\n",
       "      <th>4</th>\n",
       "      <td>875</td>\n",
       "      <td>The Battle of New York: Why This Primary Matters</td>\n",
       "      <td>It's primary day in New York and front-runners...</td>\n",
       "      <td>REAL</td>\n",
       "    </tr>\n",
       "    <tr>\n",
       "      <th>5</th>\n",
       "      <td>6903</td>\n",
       "      <td>Tehran, USA</td>\n",
       "      <td>\\nI’m not an immigrant, but my grandparents ...</td>\n",
       "      <td>FAKE</td>\n",
       "    </tr>\n",
       "    <tr>\n",
       "      <th>6</th>\n",
       "      <td>7341</td>\n",
       "      <td>Girl Horrified At What She Watches Boyfriend D...</td>\n",
       "      <td>Share This Baylee Luciani (left), Screenshot o...</td>\n",
       "      <td>FAKE</td>\n",
       "    </tr>\n",
       "    <tr>\n",
       "      <th>7</th>\n",
       "      <td>95</td>\n",
       "      <td>‘Britain’s Schindler’ Dies at 106</td>\n",
       "      <td>A Czech stockbroker who saved more than 650 Je...</td>\n",
       "      <td>REAL</td>\n",
       "    </tr>\n",
       "    <tr>\n",
       "      <th>8</th>\n",
       "      <td>4869</td>\n",
       "      <td>Fact check: Trump and Clinton at the 'commande...</td>\n",
       "      <td>Hillary Clinton and Donald Trump made some ina...</td>\n",
       "      <td>REAL</td>\n",
       "    </tr>\n",
       "    <tr>\n",
       "      <th>9</th>\n",
       "      <td>2909</td>\n",
       "      <td>Iran reportedly makes new push for uranium con...</td>\n",
       "      <td>Iranian negotiators reportedly have made a las...</td>\n",
       "      <td>REAL</td>\n",
       "    </tr>\n",
       "  </tbody>\n",
       "</table>\n",
       "</div>"
      ],
      "text/plain": [
       "   Unnamed: 0                                              title  \\\n",
       "0        8476                       You Can Smell Hillary’s Fear   \n",
       "1       10294  Watch The Exact Moment Paul Ryan Committed Pol...   \n",
       "2        3608        Kerry to go to Paris in gesture of sympathy   \n",
       "3       10142  Bernie supporters on Twitter erupt in anger ag...   \n",
       "4         875   The Battle of New York: Why This Primary Matters   \n",
       "5        6903                                        Tehran, USA   \n",
       "6        7341  Girl Horrified At What She Watches Boyfriend D...   \n",
       "7          95                  ‘Britain’s Schindler’ Dies at 106   \n",
       "8        4869  Fact check: Trump and Clinton at the 'commande...   \n",
       "9        2909  Iran reportedly makes new push for uranium con...   \n",
       "\n",
       "                                                text label  \n",
       "0  Daniel Greenfield, a Shillman Journalism Fello...  FAKE  \n",
       "1  Google Pinterest Digg Linkedin Reddit Stumbleu...  FAKE  \n",
       "2  U.S. Secretary of State John F. Kerry said Mon...  REAL  \n",
       "3  — Kaydee King (@KaydeeKing) November 9, 2016 T...  FAKE  \n",
       "4  It's primary day in New York and front-runners...  REAL  \n",
       "5    \\nI’m not an immigrant, but my grandparents ...  FAKE  \n",
       "6  Share This Baylee Luciani (left), Screenshot o...  FAKE  \n",
       "7  A Czech stockbroker who saved more than 650 Je...  REAL  \n",
       "8  Hillary Clinton and Donald Trump made some ina...  REAL  \n",
       "9  Iranian negotiators reportedly have made a las...  REAL  "
      ]
     },
     "execution_count": 69,
     "metadata": {},
     "output_type": "execute_result"
    }
   ],
   "source": [
    "# check new datset head\n",
    "news_test.head(10)"
   ]
  },
  {
   "cell_type": "code",
   "execution_count": 70,
   "id": "238af5b6",
   "metadata": {},
   "outputs": [],
   "source": [
    "# Change labels from FAKE and REAL to 1 and 0\n",
    "news_test.loc[news_test.label == 'FAKE', 'label'] = int(1)\n",
    "news_test.loc[news_test.label == 'REAL', 'label'] = int(0)\n",
    "news_test['label'] = news_test['label'].astype(int)"
   ]
  },
  {
   "cell_type": "code",
   "execution_count": 71,
   "id": "405d8964",
   "metadata": {},
   "outputs": [
    {
     "data": {
      "text/html": [
       "<div>\n",
       "<style scoped>\n",
       "    .dataframe tbody tr th:only-of-type {\n",
       "        vertical-align: middle;\n",
       "    }\n",
       "\n",
       "    .dataframe tbody tr th {\n",
       "        vertical-align: top;\n",
       "    }\n",
       "\n",
       "    .dataframe thead th {\n",
       "        text-align: right;\n",
       "    }\n",
       "</style>\n",
       "<table border=\"1\" class=\"dataframe\">\n",
       "  <thead>\n",
       "    <tr style=\"text-align: right;\">\n",
       "      <th></th>\n",
       "      <th>Unnamed: 0</th>\n",
       "      <th>title</th>\n",
       "      <th>text</th>\n",
       "      <th>label</th>\n",
       "    </tr>\n",
       "  </thead>\n",
       "  <tbody>\n",
       "    <tr>\n",
       "      <th>0</th>\n",
       "      <td>8476</td>\n",
       "      <td>You Can Smell Hillary’s Fear</td>\n",
       "      <td>Daniel Greenfield, a Shillman Journalism Fello...</td>\n",
       "      <td>1</td>\n",
       "    </tr>\n",
       "    <tr>\n",
       "      <th>1</th>\n",
       "      <td>10294</td>\n",
       "      <td>Watch The Exact Moment Paul Ryan Committed Pol...</td>\n",
       "      <td>Google Pinterest Digg Linkedin Reddit Stumbleu...</td>\n",
       "      <td>1</td>\n",
       "    </tr>\n",
       "    <tr>\n",
       "      <th>2</th>\n",
       "      <td>3608</td>\n",
       "      <td>Kerry to go to Paris in gesture of sympathy</td>\n",
       "      <td>U.S. Secretary of State John F. Kerry said Mon...</td>\n",
       "      <td>0</td>\n",
       "    </tr>\n",
       "    <tr>\n",
       "      <th>3</th>\n",
       "      <td>10142</td>\n",
       "      <td>Bernie supporters on Twitter erupt in anger ag...</td>\n",
       "      <td>— Kaydee King (@KaydeeKing) November 9, 2016 T...</td>\n",
       "      <td>1</td>\n",
       "    </tr>\n",
       "    <tr>\n",
       "      <th>4</th>\n",
       "      <td>875</td>\n",
       "      <td>The Battle of New York: Why This Primary Matters</td>\n",
       "      <td>It's primary day in New York and front-runners...</td>\n",
       "      <td>0</td>\n",
       "    </tr>\n",
       "    <tr>\n",
       "      <th>5</th>\n",
       "      <td>6903</td>\n",
       "      <td>Tehran, USA</td>\n",
       "      <td>\\nI’m not an immigrant, but my grandparents ...</td>\n",
       "      <td>1</td>\n",
       "    </tr>\n",
       "    <tr>\n",
       "      <th>6</th>\n",
       "      <td>7341</td>\n",
       "      <td>Girl Horrified At What She Watches Boyfriend D...</td>\n",
       "      <td>Share This Baylee Luciani (left), Screenshot o...</td>\n",
       "      <td>1</td>\n",
       "    </tr>\n",
       "    <tr>\n",
       "      <th>7</th>\n",
       "      <td>95</td>\n",
       "      <td>‘Britain’s Schindler’ Dies at 106</td>\n",
       "      <td>A Czech stockbroker who saved more than 650 Je...</td>\n",
       "      <td>0</td>\n",
       "    </tr>\n",
       "    <tr>\n",
       "      <th>8</th>\n",
       "      <td>4869</td>\n",
       "      <td>Fact check: Trump and Clinton at the 'commande...</td>\n",
       "      <td>Hillary Clinton and Donald Trump made some ina...</td>\n",
       "      <td>0</td>\n",
       "    </tr>\n",
       "    <tr>\n",
       "      <th>9</th>\n",
       "      <td>2909</td>\n",
       "      <td>Iran reportedly makes new push for uranium con...</td>\n",
       "      <td>Iranian negotiators reportedly have made a las...</td>\n",
       "      <td>0</td>\n",
       "    </tr>\n",
       "  </tbody>\n",
       "</table>\n",
       "</div>"
      ],
      "text/plain": [
       "   Unnamed: 0                                              title  \\\n",
       "0        8476                       You Can Smell Hillary’s Fear   \n",
       "1       10294  Watch The Exact Moment Paul Ryan Committed Pol...   \n",
       "2        3608        Kerry to go to Paris in gesture of sympathy   \n",
       "3       10142  Bernie supporters on Twitter erupt in anger ag...   \n",
       "4         875   The Battle of New York: Why This Primary Matters   \n",
       "5        6903                                        Tehran, USA   \n",
       "6        7341  Girl Horrified At What She Watches Boyfriend D...   \n",
       "7          95                  ‘Britain’s Schindler’ Dies at 106   \n",
       "8        4869  Fact check: Trump and Clinton at the 'commande...   \n",
       "9        2909  Iran reportedly makes new push for uranium con...   \n",
       "\n",
       "                                                text  label  \n",
       "0  Daniel Greenfield, a Shillman Journalism Fello...      1  \n",
       "1  Google Pinterest Digg Linkedin Reddit Stumbleu...      1  \n",
       "2  U.S. Secretary of State John F. Kerry said Mon...      0  \n",
       "3  — Kaydee King (@KaydeeKing) November 9, 2016 T...      1  \n",
       "4  It's primary day in New York and front-runners...      0  \n",
       "5    \\nI’m not an immigrant, but my grandparents ...      1  \n",
       "6  Share This Baylee Luciani (left), Screenshot o...      1  \n",
       "7  A Czech stockbroker who saved more than 650 Je...      0  \n",
       "8  Hillary Clinton and Donald Trump made some ina...      0  \n",
       "9  Iranian negotiators reportedly have made a las...      0  "
      ]
     },
     "execution_count": 71,
     "metadata": {},
     "output_type": "execute_result"
    }
   ],
   "source": [
    "# Check it was successful\n",
    "news_test.head(10)"
   ]
  },
  {
   "cell_type": "code",
   "execution_count": 72,
   "id": "7fa5d1d7",
   "metadata": {},
   "outputs": [
    {
     "name": "stdout",
     "output_type": "stream",
     "text": [
      "Number of real news stories: 3171\n",
      "Number of fake news stories: 3164\n"
     ]
    }
   ],
   "source": [
    "# View numbers of each category\n",
    "print(\"Number of real news stories:\", len(news_test[news_test.label==0]))\n",
    "print(\"Number of fake news stories:\", len(news_test[news_test.label==1]))"
   ]
  },
  {
   "cell_type": "code",
   "execution_count": 73,
   "id": "a41f1a7e",
   "metadata": {},
   "outputs": [],
   "source": [
    "## Run same text normalization process on the new dataset\n",
    "## Text normalization\n",
    "\n",
    "# Create counter with stopwords (note: without a counter, run time is exponential)\n",
    "stopwords_dict = Counter(stopwords.words('english'))\n",
    "# Create lemmatizer\n",
    "lemmatizer = WordNetLemmatizer()\n",
    "# Empty list to store cleaned data\n",
    "new_corpus = []\n",
    "\n",
    "for i in range(0, len(news_test)):\n",
    "    # Replace all non-letters with ' '\n",
    "    cleaned_text = re.sub('[^a-zA-Z]', ' ', news_test['text'][i])\n",
    "    # Change text to lowercase\n",
    "    cleaned_text = cleaned_text.lower()\n",
    "    # Split text for lemmatization\n",
    "    cleaned_text = cleaned_text.split()\n",
    "    # Lemmatize and remove stopwords \n",
    "    cleaned_text = [lemmatizer.lemmatize(j) for j in cleaned_text if not j in stopwords_dict]\n",
    "    # Rejoin individual words to sentences \n",
    "    cleaned_text = ' '.join(cleaned_text)\n",
    "    # Append sentences to corpus\n",
    "    new_corpus.append(cleaned_text)"
   ]
  },
  {
   "cell_type": "code",
   "execution_count": 74,
   "id": "8691bba1",
   "metadata": {},
   "outputs": [
    {
     "data": {
      "text/plain": [
       "array([1, 1, 0, ..., 1, 0, 0])"
      ]
     },
     "execution_count": 74,
     "metadata": {},
     "output_type": "execute_result"
    }
   ],
   "source": [
    "# Set y values from labels\n",
    "y = np.array(news_test.iloc[:,-1])\n",
    "y"
   ]
  },
  {
   "cell_type": "markdown",
   "id": "d1824722",
   "metadata": {},
   "source": [
    "#### Count vectorizer new dataset"
   ]
  },
  {
   "cell_type": "code",
   "execution_count": 75,
   "id": "cb79de10",
   "metadata": {},
   "outputs": [],
   "source": [
    "# Vectorize titles into ngrams\n",
    "new_vec_corpus = count_vectorizer.transform(new_corpus).toarray()"
   ]
  },
  {
   "cell_type": "code",
   "execution_count": 76,
   "id": "5049c48f",
   "metadata": {},
   "outputs": [
    {
     "name": "stdout",
     "output_type": "stream",
     "text": [
      "(6335, 1000)\n"
     ]
    },
    {
     "data": {
      "text/plain": [
       "array([[0, 0, 0, ..., 0, 2, 0],\n",
       "       [0, 0, 0, ..., 0, 0, 0],\n",
       "       [0, 0, 0, ..., 0, 0, 0],\n",
       "       ...,\n",
       "       [0, 0, 0, ..., 0, 0, 0],\n",
       "       [0, 0, 0, ..., 0, 0, 0],\n",
       "       [0, 0, 0, ..., 0, 0, 0]], dtype=int64)"
      ]
     },
     "execution_count": 76,
     "metadata": {},
     "output_type": "execute_result"
    }
   ],
   "source": [
    "# Check vectorization ran as expected\n",
    "print(new_vec_corpus.shape)\n",
    "new_vec_corpus"
   ]
  },
  {
   "cell_type": "markdown",
   "id": "40307f16",
   "metadata": {},
   "source": [
    "Now that the new dataset has been preprocessed, it is time to run it through our model to see if it can successfully beat our baselines."
   ]
  },
  {
   "cell_type": "markdown",
   "id": "9e33e639-6918-400b-8beb-b899c87c7841",
   "metadata": {},
   "source": [
    "## III Conclusions"
   ]
  },
  {
   "cell_type": "markdown",
   "id": "5fbb385c-5c3c-4e95-adb1-4d4458c5ba4b",
   "metadata": {},
   "source": [
    "### 9. Evaluation"
   ]
  },
  {
   "cell_type": "markdown",
   "id": "85b74d9c",
   "metadata": {},
   "source": [
    "For the evaluation, we will test our best model on the test dataset and compare to the second best to decide our final choice."
   ]
  },
  {
   "cell_type": "markdown",
   "id": "559602a4",
   "metadata": {},
   "source": [
    "#### Run predictions with most successful model - AdaBoostClassifier"
   ]
  },
  {
   "cell_type": "code",
   "execution_count": 77,
   "id": "6a7f1b87",
   "metadata": {},
   "outputs": [
    {
     "name": "stdout",
     "output_type": "stream",
     "text": [
      "Accuracy on new data with the AdaBoostClassifier model:  0.5243883188634569\n"
     ]
    }
   ],
   "source": [
    "# Make predictions on new dataset using the AdaBoostClassifier model and see results.\n",
    "new_preds = Ada.predict(new_vec_corpus)\n",
    "print('Accuracy on new data with the AdaBoostClassifier model: ', Ada.score(new_vec_corpus, y))"
   ]
  },
  {
   "cell_type": "markdown",
   "id": "d92d390a",
   "metadata": {},
   "source": [
    "AdaBoostClassifier has performed extremely poorly when exposed to new data. The result is actually more or less equal to a coin-toss. It has failed to even beat the results of our dumbbaseline of 52%. \n",
    "\n",
    "So what went wrong? To understand this, we need to investigate the metrics further."
   ]
  },
  {
   "cell_type": "code",
   "execution_count": 78,
   "id": "62b0f7c4",
   "metadata": {},
   "outputs": [
    {
     "name": "stdout",
     "output_type": "stream",
     "text": [
      "\u001b[1mAccuracy metrics of AdaBoostClassifier on the vectorized data\u001b[0m\n",
      "Accuracy:   0.524388\n",
      "Recall:     0.959229\n",
      "Precision:  0.512756\n",
      "F1 score:   0.668281\n"
     ]
    }
   ],
   "source": [
    "# Display accuracy metrics of the model on new dataset\n",
    "print(\"\\033[1mAccuracy metrics of AdaBoostClassifier on the vectorized data\\033[0m\")\n",
    "acc_metrics(y, new_preds)"
   ]
  },
  {
   "cell_type": "code",
   "execution_count": 79,
   "id": "d6d1a0e3",
   "metadata": {},
   "outputs": [
    {
     "data": {
      "image/png": "[encoded data removed]",
      "text/plain": [
       "<Figure size 432x288 with 2 Axes>"
      ]
     },
     "metadata": {
      "needs_background": "light"
     },
     "output_type": "display_data"
    }
   ],
   "source": [
    "# Display confusion matrix of model on the new dataset predictions\n",
    "cm = metrics.confusion_matrix(y, new_preds)\n",
    "plot_confusion_matrix(cm, classes=['FAKE', 'REAL'])"
   ]
  },
  {
   "cell_type": "markdown",
   "id": "d8ef93ca",
   "metadata": {},
   "source": [
    "On closer examination, we can see what's gone wrong. The model has failed to adapt to the new dataset. It has predicted  the answer of 'real' almost every time accounting for 5429 of it's 6335 predictions.\n",
    "\n",
    "Will all of our classifiers perform this badly when exposed to new data? To check, we can try our next most successful model, the LogisticRegression model."
   ]
  },
  {
   "cell_type": "markdown",
   "id": "e5d3eff3",
   "metadata": {},
   "source": [
    "#### Run predictions with next most successful model - LogisticRegression"
   ]
  },
  {
   "cell_type": "code",
   "execution_count": 80,
   "id": "acf9569d",
   "metadata": {},
   "outputs": [
    {
     "name": "stdout",
     "output_type": "stream",
     "text": [
      "Accuracy on test set for count vec. :  0.6996053670086819\n"
     ]
    }
   ],
   "source": [
    "# Make predictions on new dataset using the LogisticRegression model and see results.\n",
    "new_preds = lr_clf.predict(new_vec_corpus)\n",
    "print('Accuracy on test set for count vec. : ', lr_clf.score(new_vec_corpus, y))"
   ]
  },
  {
   "cell_type": "markdown",
   "id": "c1fe5e33",
   "metadata": {},
   "source": [
    "The immediate results suggest a great improvement in the performance of our second most successful model. It has <b>managed to beat the dumb baseline</b> of 52%."
   ]
  },
  {
   "cell_type": "code",
   "execution_count": 81,
   "id": "3e5b77d7",
   "metadata": {},
   "outputs": [
    {
     "name": "stdout",
     "output_type": "stream",
     "text": [
      "\u001b[1mAccuracy metrics of LogisticRegression on the new vectorized data\u001b[0m\n",
      "Accuracy:   0.699605\n",
      "Recall:     0.583439\n",
      "Precision:  0.759358\n",
      "F1 score:   0.659875\n"
     ]
    }
   ],
   "source": [
    "# Display accuracy metrics of the model on new dataset\n",
    "print(\"\\033[1mAccuracy metrics of LogisticRegression on the new vectorized data\\033[0m\")\n",
    "acc_metrics(y, new_preds)"
   ]
  },
  {
   "cell_type": "code",
   "execution_count": 82,
   "id": "65ec0f8d",
   "metadata": {},
   "outputs": [
    {
     "data": {
      "image/png": "[encoded data removed]",
      "text/plain": [
       "<Figure size 432x288 with 2 Axes>"
      ]
     },
     "metadata": {
      "needs_background": "light"
     },
     "output_type": "display_data"
    }
   ],
   "source": [
    "# Display confusion matrix of model on the new dataset predictions\n",
    "cm = metrics.confusion_matrix(y, new_preds)\n",
    "plot_confusion_matrix(cm, classes=['FAKE', 'REAL'])"
   ]
  },
  {
   "cell_type": "markdown",
   "id": "6f23953f",
   "metadata": {},
   "source": [
    "The LogisticRegression model performed when significantly better when exposed to the new data, achieving a reasonable accuracy of 69.7%, and also classified fake news more successfully with a precision of 75%.\n",
    "\n",
    "It <b>now seems the LogisticRegression  model is our best classifier</b> when exposing it to new data.\n",
    "\n",
    "As a final check for completeness, given the differences between our first two, I will check the final classifier with 99% metrics, the PassiveAggressiveClassifier model, to see how it performs."
   ]
  },
  {
   "cell_type": "markdown",
   "id": "9c24d0f0",
   "metadata": {},
   "source": [
    "#### Run predictions with third most successful model - PassiveAggressiveClassifier"
   ]
  },
  {
   "cell_type": "code",
   "execution_count": 83,
   "id": "41f27aee",
   "metadata": {},
   "outputs": [
    {
     "name": "stdout",
     "output_type": "stream",
     "text": [
      "Accuracy on test set for count vec. :  0.6855564325177584\n"
     ]
    }
   ],
   "source": [
    "# # Make predictions on new dataset using the PassiveAggressiveClassifier model and see results.\n",
    "new_preds = PA_clf.predict(new_vec_corpus)\n",
    "print('Accuracy on test set for count vec. : ', PA_clf.score(new_vec_corpus, y))"
   ]
  },
  {
   "cell_type": "code",
   "execution_count": 84,
   "id": "d18b6900",
   "metadata": {},
   "outputs": [
    {
     "name": "stdout",
     "output_type": "stream",
     "text": [
      "\u001b[1mAccuracy metrics of PassiveAggressiveClassifier on the new vectorized data\u001b[0m\n",
      "Accuracy:   0.685556\n",
      "Recall:     0.556574\n",
      "Precision:  0.749362\n",
      "F1 score:   0.638738\n"
     ]
    }
   ],
   "source": [
    "# Display accuracy metrics of the model on new dataset\n",
    "print(\"\\033[1mAccuracy metrics of PassiveAggressiveClassifier on the new vectorized data\\033[0m\")\n",
    "acc_metrics(y, new_preds)"
   ]
  },
  {
   "cell_type": "code",
   "execution_count": 85,
   "id": "b3955994",
   "metadata": {},
   "outputs": [
    {
     "data": {
      "image/png": "[encoded data removed]",
      "text/plain": [
       "<Figure size 432x288 with 2 Axes>"
      ]
     },
     "metadata": {
      "needs_background": "light"
     },
     "output_type": "display_data"
    }
   ],
   "source": [
    "# Display confusion matrix of model on the new dataset predictions\n",
    "cm = metrics.confusion_matrix(y, new_preds)\n",
    "plot_confusion_matrix(cm, classes=['FAKE', 'REAL'])"
   ]
  },
  {
   "cell_type": "markdown",
   "id": "31ef0267",
   "metadata": {},
   "source": [
    "The results are very similar to that of the LogisticRegression model (accuracy: 70%, precision: 76.4%). It has performed marginally better overall, while proving a little better at classifying fake news. \n",
    "\n",
    "Given the aims of the classifier were to both identify news overall successfully as well as specifically identify fake news, the <b>PassiveAggressiveClassifier based model been our best model when exposed to new data</b>."
   ]
  },
  {
   "cell_type": "code",
   "execution_count": 86,
   "id": "5ea57958",
   "metadata": {},
   "outputs": [],
   "source": [
    "# Saving our chosen model and creating requirements.txt for reproducability by others\n",
    "import pickle\n",
    "pickle.dump(PA_clf, open('PassiveAggressive_FakeNewsClassifier.sav', 'wb'))\n",
    "\n",
    "# A requirements.txt file should also be generated through cmd line\n",
    "#pip3 freeze > requirements.txt"
   ]
  },
  {
   "cell_type": "markdown",
   "id": "d1df3ce4-c7b9-4f7c-90c5-61b1c6a3295f",
   "metadata": {},
   "source": [
    "### 10. Summary and conclusions"
   ]
  },
  {
   "cell_type": "markdown",
   "id": "d2568a62",
   "metadata": {},
   "source": [
    "#### Summary and basline comparison"
   ]
  },
  {
   "cell_type": "markdown",
   "id": "41b7ef15",
   "metadata": {},
   "source": [
    "Several models were created which perform exceptionally well on the test set, scoring over 99% across all metrics. In regards to building a model which classifies well on the test set, this has been a huge success. However, when exposed to new data, the models have failed to generalize to the same level, performing significantly worse. This was particularly true of the AdaBoostClassifier model, which produced results comparable to flipping a coin and failed to even beat the dumb baseline.\n",
    "\n",
    "The other two models, the LogisticRegression and PassiveAggressiveClassifier, fared significantly better, both performing around the 70% accuracy mark and 75-76% precision mark, indicating they performed well on fake news. They were both able to <b>beat our dumb baseline</b> of guessing the most prominent class by a significant margin, but were conversely <b>well short of the secondary baseline</b> set by comparison to industry experts."
   ]
  },
  {
   "cell_type": "markdown",
   "id": "73dbaa4c",
   "metadata": {},
   "source": [
    "#### Final choice and contribution to the problem area"
   ]
  },
  {
   "cell_type": "markdown",
   "id": "339d3628",
   "metadata": {},
   "source": [
    "While the model's ability to generalize in a little disappointing, the <b>PassiveAggressiveClassifier model was chosen as our best model to move forward with in contributing to the problem area</b> due to its slightly better performance overall and on fake news classification. While not entirely accurate, it could be used as an indicator or perhaps combined as a weak learner in an ensemble model for more accurate results."
   ]
  },
  {
   "cell_type": "markdown",
   "id": "2cc01f98",
   "metadata": {},
   "source": [
    "#### Reproducibility and deployment"
   ]
  },
  {
   "cell_type": "markdown",
   "id": "77af5748",
   "metadata": {},
   "source": [
    "The <b>approach used can be repeated simply by importing the saved model and recreating the environment</b> from the requirements.txt file, which can be made freely available. As the model has been pickled Python would need to be used and the same Python environment will likely be needed if used within other projects, which is a limitation for wide spread use. However, <b>deployment via an API</b> such as <a href='https://fastapi.tiangolo.com/'>FastAPI</a> or <a href='https://streamlit.io/'>Streamlit</a> will allow for this <b>model to be used by anyone</b> with an internet connection. "
   ]
  },
  {
   "cell_type": "markdown",
   "id": "73b637ae",
   "metadata": {},
   "source": [
    "#### Ideas for future improvement and model development"
   ]
  },
  {
   "cell_type": "markdown",
   "id": "f51045b2",
   "metadata": {},
   "source": [
    "As seen, the model performed well on the test set but failed to generalize well. This could be due to differences in the datasets (sources, news topics etc.). Combining the two datasets used and retraining the model is likely to improve model performance significantly. \n",
    "\n",
    "The model was also not hyperparameter tuned. With careful tuning, the model is likely to produce better results. \n",
    "\n",
    "Finally, for optimal performance, training a deep neural network is another potential solution which could perform better than our current model."
   ]
  },
  {
   "cell_type": "markdown",
   "id": "9d0e5a48",
   "metadata": {},
   "source": [
    "### 11. References"
   ]
  },
  {
   "cell_type": "markdown",
   "id": "b4e53e80",
   "metadata": {},
   "source": [
    "<p><sup>[1]</sup> Meschi. M. et al. (2020), 'The real-world effects of ‘fake news’ – and how to quantify them', Tech Law for Everyone, https://www.scl.org/articles/12022-the-real-world-effects-of-fake-news-and-how-to-quantify-them - assessed 21-11-2021</p>\n",
    "<p><sup>[2]</sup> European Commission, 'Coronavirus: EU strengthens action to tackle disinformation', press release, 10 June 2020, https://ec.europa.eu/commission/presscorner/detail/en/ip_20_1006 - assessed 21-11-2021</p>\n",
    "<p><sup>[3]</sup> Dunn. A. G. et al. (2017), 'Mapping information exposure on social media to explain differences in HPV vaccine coverage in the United States', Vaccine, Volume 35, Issue 23, https://www.sciencedirect.com/science/article/pii/S0264410X17305522?via%3Dihub - assessed 21-11-2021</p>\n",
    "<p><sup>[4]</sup> Fisher. M. et al., The Washington Post, 'Pizzagate: From rumor, to hashtag, to gunfire in D.C.', news article, December 6 2016, https://www.washingtonpost.com/local/pizzagate-from-rumor-to-hashtag-to-gunfire-in-dc/2016/12/06/4c7def50-bbd4-11e6-94ac-3d324840106c_story.html - assessed 21-11-2021</p>\n",
    "<p><sup>[5]</sup> https://www.pewresearch.org/fact-tank/2017/11/02/more-americans-are-turning-to-multiple-social-media-sites-for-news/ - assessed 21-11-2021</p>\n",
    "<p><sup>[6]</sup> https://blog.twitter.com/en_us/topics/product/2020/updating-our-approach-to-misleading-information - assessed 21-11-2021</p>\n",
    "<p><sup>[7]</sup> Allen. J. et al. (2020), 'Evaluating the fake news problem at the scale of the information ecosystem', Sciences Advanced, Volume. 6, No. 14, https://www.science.org/doi/10.1126/sciadv.aay3539# - assessed 21-11-2021</p>\n",
    "<p><sup>[8]</sup> Shu. K. et. al, (2017), 'Fake News Detection on Social Media: A Data Mining Perspective', ACM SIGKDD Explorations Newsletter. 19. 10.1145/3137597.3137600., https://dl.acm.org/doi/abs/10.1145/3137597.3137600 - assessed 21-11-2021</p>\n",
    "<p><sup>[9]</sup>  Center for Information Technology and Society at UC Santa Barbara, 'The Danger of Fake News in Inflaming or Suppressing Social Conflict', article, undated, University of California Santa Barbara, https://www.cits.ucsb.edu/fake-news/danger-social - assessed 21-11-2021</p>\n",
    "<p><sup>[10]</sup> Information security and object technology (ISOT) research lab, 'Fake News Detection Datasets', https://www.uvic.ca/ecs/ece/isot/datasets/fake-news/index.php, University of Victoria, Engineering and Computer Science Department - assessed 21-11-2021</p>\n",
    "<p><sup>[11]</sup> Amin. H, 'Fake News, Balanced dataset for fake news analysis', dataset, https://www.kaggle.com/hassanamin/textdb3- accessed 30-12-2021</p>\n",
    "<p><sup>[12]</sup> Naik. K. 'Fake-News-Classifier', https://github.com/krishnaik06/Fake-News-Classifier, Github repository, Apr 11, 2020 - accessed 12-12-2021</p>\n",
    "<p><sup>[13]</sup> Kaliyar. R.K. et al. (2021), 'EchoFakeD: Improving fake news detection in social media with an efficient deep neural network', Neural Computing and Applications, 33 , https://link.springer.com/article/10.1007/s00521-020-05611-1 - accessed 12-12-2021</p>\n",
    "<p><sup>[14]</sup> Shu K. et al. (2019), 'Defend: explainable fake news detection', https://www.researchgate.net/publication/332864316_dEFEND_Explainable_Fake_News_Detection - accessed 12-12-2021 </p>\n",
    "<p><sup>[15]</sup> Zhou X. et al. (2020), 'SAFE: similarity-aware multi-modal fake news detection', Data Lab, EECS Department, Syracuse University, https://arxiv.org/abs/2003.04981 - accessed 12-12-2021</p>\n",
    "<p><sup>[16]</sup> Islam N. et al. (2021), 'Ternion: An Autonomous Model for Fake News Detection', Applied Sciences 11, no. 19: 9292. https://doi.org/10.3390/app11199292, https://www.mdpi.com/2076-3417/11/19/9292 - accessed 12-12-2021</p>\n",
    "<p><sup>[17]</sup> Dutta M. (2021), 'Bag-of-words vs TFIDF vectorization – A Hands-on Tutorial', article, July 14, 2021, https://www.analyticsvidhya.com/blog/2021/07/bag-of-words-vs-tfidf-vectorization-a-hands-on-tutorial/Sciences - accessed 13-12-2021</p>"
   ]
  },
  {
   "cell_type": "code",
   "execution_count": null,
   "id": "34c4624c",
   "metadata": {},
   "outputs": [],
   "source": []
  }
 ],
 "metadata": {
  "kernelspec": {
   "display_name": "Python 3 (ipykernel)",
   "language": "python",
   "name": "python3"
  },
  "language_info": {
   "codemirror_mode": {
    "name": "ipython",
    "version": 3
   },
   "file_extension": ".py",
   "mimetype": "text/x-python",
   "name": "python",
   "nbconvert_exporter": "python",
   "pygments_lexer": "ipython3",
   "version": "3.8.8"
  }
 },
 "nbformat": 4,
 "nbformat_minor": 5
}
